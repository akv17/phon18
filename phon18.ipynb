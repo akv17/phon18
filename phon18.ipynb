{
 "cells": [
  {
   "cell_type": "code",
   "execution_count": 212,
   "metadata": {
    "collapsed": true
   },
   "outputs": [],
   "source": [
    "import numpy as np\n",
    "import matplotlib.pyplot as plt\n",
    "%matplotlib inline\n",
    "from matplotlib.lines import Line2D\n",
    "from copy import deepcopy\n",
    "from sklearn.linear_model import LinearRegression\n",
    "from sklearn.metrics import mean_squared_error, r2_score"
   ]
  },
  {
   "cell_type": "code",
   "execution_count": 248,
   "metadata": {
    "collapsed": true
   },
   "outputs": [],
   "source": [
    "plt.style.use('ggplot')"
   ]
  },
  {
   "cell_type": "code",
   "execution_count": 41,
   "metadata": {
    "collapsed": true
   },
   "outputs": [],
   "source": [
    "PATH = r'C:\\Users\\PC\\Desktop\\stu\\phon17_18\\praat'\n",
    "NA = '--undefined--'\n",
    "CONS = [(\"к\", \"п'\"), (\"г\", \"л'\"), (\"∅\", \"й\"), (\"к\", \"т'\"), (\"г\", \"п'\"), (\"∅\", \"й\"),\n",
    "        (\"г\", \"т'\"), (\"г\", \"й\"), (\"к\", \"л'\"), (\"к\", \"п'\"), (\"к\", \"т'\"), (\"г\", \"л'\")]\n",
    "HEADER = ['sound', 'sound_idx', 'segment', 'segment_idx', 'time', 'pitch', 'intensity', 'f1', 'f2']"
   ]
  },
  {
   "cell_type": "code",
   "execution_count": 155,
   "metadata": {},
   "outputs": [],
   "source": [
    "_v = deepcopy(vs[-1])\n",
    "#_l = vs[0].lines\n",
    "#_l"
   ]
  },
  {
   "cell_type": "code",
   "execution_count": 156,
   "metadata": {},
   "outputs": [],
   "source": [
    "_v.build()"
   ]
  },
  {
   "cell_type": "code",
   "execution_count": 157,
   "metadata": {},
   "outputs": [],
   "source": [
    "d = _v.tr_atr"
   ]
  },
  {
   "cell_type": "code",
   "execution_count": null,
   "metadata": {
    "collapsed": true
   },
   "outputs": [],
   "source": [
    "def regress(X, y, normalize=False):\n",
    "    \"\"\"\n",
    "    data: `st_atr` or `tr_atr`\n",
    "    target: `f1` or `f2`\n",
    "    \"\"\"\n",
    "    #if not data['time']:\n",
    "         \n",
    "    X = data['time'].reshape(-1, 1)\n",
    "    y = data[target]\n",
    "    \n",
    "    lr = LinearRegression(normalize=normalize)\n",
    "    \n",
    "    lr.fit(X, y)\n",
    "    \n",
    "    \n",
    "    "
   ]
  },
  {
   "cell_type": "code",
   "execution_count": 158,
   "metadata": {},
   "outputs": [
    {
     "data": {
      "text/plain": [
       "{'f1': array([632.09915541, 639.60266817, 642.01960714, 633.09830125,\n",
       "        469.35888845]),\n",
       " 'f2': array([1294.20035577, 1319.14740989, 1348.51455683, 1411.16975418,\n",
       "        1468.18198081]),\n",
       " 'intensity': array([80.42134097, 80.8633671 , 80.84432941, 80.07972817, 75.72271239]),\n",
       " 'pitch': array([143.51739065, 148.46121662, 152.93882647, 155.86013354,\n",
       "        156.46545714]),\n",
       " 'time': array([192.97546953, 192.9938544 , 193.01223928, 193.03062415,\n",
       "        193.0673939 ])}"
      ]
     },
     "execution_count": 158,
     "metadata": {},
     "output_type": "execute_result"
    }
   ],
   "source": [
    "d"
   ]
  },
  {
   "cell_type": "code",
   "execution_count": 166,
   "metadata": {},
   "outputs": [],
   "source": [
    "lr = LinearRegression()"
   ]
  },
  {
   "cell_type": "code",
   "execution_count": 167,
   "metadata": {},
   "outputs": [],
   "source": [
    "lr.fit(d['time'].reshape(-1, 1), d['f2']);"
   ]
  },
  {
   "cell_type": "code",
   "execution_count": 170,
   "metadata": {},
   "outputs": [
    {
     "data": {
      "text/plain": [
       "[<matplotlib.lines.Line2D at 0x2c54ee7d940>]"
      ]
     },
     "execution_count": 170,
     "metadata": {},
     "output_type": "execute_result"
    },
    {
     "data": {
      "image/png": "[encoded data removed]",
      "text/plain": [
       "<matplotlib.figure.Figure at 0x2c5500bb0b8>"
      ]
     },
     "metadata": {},
     "output_type": "display_data"
    }
   ],
   "source": [
    "plt.scatter(d['time'], d['f2'])\n",
    "plt.plot(d['time'], d['time'] * lr.coef_ + lr.intercept_)"
   ]
  },
  {
   "cell_type": "code",
   "execution_count": 169,
   "metadata": {},
   "outputs": [
    {
     "data": {
      "text/plain": [
       "0.9793562834063719"
      ]
     },
     "execution_count": 169,
     "metadata": {},
     "output_type": "execute_result"
    }
   ],
   "source": [
    "lr.score(d['time'].reshape(-1, 1), d['f2'])"
   ]
  },
  {
   "cell_type": "code",
   "execution_count": null,
   "metadata": {
    "collapsed": true
   },
   "outputs": [],
   "source": []
  },
  {
   "cell_type": "code",
   "execution_count": null,
   "metadata": {
    "collapsed": true
   },
   "outputs": [],
   "source": []
  },
  {
   "cell_type": "code",
   "execution_count": null,
   "metadata": {
    "collapsed": true
   },
   "outputs": [],
   "source": []
  },
  {
   "cell_type": "code",
   "execution_count": null,
   "metadata": {
    "collapsed": true
   },
   "outputs": [],
   "source": []
  },
  {
   "cell_type": "code",
   "execution_count": null,
   "metadata": {
    "collapsed": true
   },
   "outputs": [],
   "source": [
    "def regress(X, y, normalize=False):\n",
    "    \"\"\"\n",
    "    data: `st_atr` or `tr_atr`\n",
    "    target: `f1` or `f2`\n",
    "    \"\"\"\n",
    "    #if not data['time']:\n",
    "         \n",
    "    X = data['time'].reshape(-1, 1)\n",
    "    y = data[target]\n",
    "    \n",
    "    lr = LinearRegression(normalize=normalize)\n",
    "    \n",
    "    lr.fit(X, y)"
   ]
  },
  {
   "cell_type": "code",
   "execution_count": 283,
   "metadata": {},
   "outputs": [],
   "source": [
    "class V:\n",
    "    \n",
    "    def __init__(self, rec, sound_idx, idx):\n",
    "        \"\"\"\n",
    "        rec: номер записи\n",
    "        sound_idx: индекс в текстгриде\n",
    "        idx: порядковый номер гласного в тексте\n",
    "        \"\"\"\n",
    "        self.rec = rec\n",
    "        self.sound_idx = sound_idx\n",
    "        self.idx = idx\n",
    "         \n",
    "        self.lines = list()\n",
    "        self.info_line = 'sound=%s, prev=%s, next=%s, len=%s, status=%s'\n",
    "        self.atrs = ['time', 'pitch', 'intensity', 'f1', 'f2']\n",
    "        self.atr_idxs = [4, 5, 6, 7, 8]\n",
    "        self.st_coef = dict()\n",
    "        self.tr_coef = dict()\n",
    "        self.sound_map = {'e': 'е',\n",
    "                          'a': 'а',\n",
    "                          'u': 'у'\n",
    "                         }\n",
    "        \n",
    "    def __str__(self):\n",
    "        return 'V(%s, %s)' % (self.rec, self.sound_idx)\n",
    "            \n",
    "    __repr__ = __str__\n",
    "    \n",
    "    def info(self):\n",
    "        return self.info_line % (self.sound, self.prev, self.next,\n",
    "                                 round(self.len, 2), self.status)\n",
    "    \n",
    "    def add_line(self, x):\n",
    "        self.lines.append(x.strip())\n",
    "        \n",
    "    def to_int(self, line, idx):\n",
    "        if NA in line.split(',')[idx]:\n",
    "            return np.nan\n",
    "        return int(line.split(',')[idx])\n",
    "    \n",
    "    def to_float(self, line, idx):\n",
    "        if NA in line.split(',')[idx]:\n",
    "            return np.nan\n",
    "        return float(line.split(',')[idx])\n",
    "    \n",
    "    def get_status(self):\n",
    "        \"\"\"\n",
    "        0: ok\n",
    "        1: uncertain transition\n",
    "        2: uncertain spectrum\n",
    "        \"\"\"\n",
    "        x = self.lines[0].split(',')[0].strip() \n",
    "        if x[0] == '?':\n",
    "            self.status = 1\n",
    "        elif x[0] == '!':\n",
    "            self.status = 2\n",
    "        else:\n",
    "            self.status = 0\n",
    "    \n",
    "    def get_sound(self):\n",
    "        x = self.lines[0].split(',')[0].strip()\n",
    "        x = x.replace('?', '').replace('!', '')\n",
    "        self.sound = self.sound_map[x]\n",
    "        \n",
    "    def get_prev(self):\n",
    "        self.prev = CONS[self.idx][0]\n",
    "        \n",
    "    def get_next(self):\n",
    "        self.next = CONS[self.idx][1]\n",
    "        \n",
    "    def get_len(self):\n",
    "        _len = self.to_float(self.lines[-1], 4) - self.to_float(self.lines[0], 4) \n",
    "        self.len = _len * 1000\n",
    "    \n",
    "    def build_st_atr(self):\n",
    "        self.st_atr = {a: np.array([]) for a in self.atrs}\n",
    "        \n",
    "        for i in range(len(self.lines)):\n",
    "            if self.lines[i].split(',')[2].strip() == 'st':\n",
    "                for j, atr in enumerate(self.atrs):\n",
    "                    #self.tr_atr[atr].append(self.to_float(self.lines[i], self.atr_idxs[j]))\n",
    "                    self.st_atr[atr] = np.append(self.st_atr[atr], [self.to_float(self.lines[i], self.atr_idxs[j])])\n",
    "            \n",
    "    def build_tr_atr(self):\n",
    "        self.tr_atr = {a: np.array([]) for a in self.atrs}\n",
    "        \n",
    "        for i in range(len(self.lines)):\n",
    "            if self.lines[i].split(',')[2].strip() == 'tr':\n",
    "                for j, atr in enumerate(self.atrs):\n",
    "                    #self.tr_atr[atr].append(self.to_float(self.lines[i], self.atr_idxs[j]))\n",
    "                    self.tr_atr[atr] = np.append(self.tr_atr[atr], [self.to_float(self.lines[i], self.atr_idxs[j])])\n",
    "                    \n",
    "    def mean(self, x, by):\n",
    "        if by == 'st':\n",
    "            return np.mean(self.st_atr[x])\n",
    "        else:\n",
    "            return np.mean(self.tr_atr[x])\n",
    "        \n",
    "    def std(self, x, by):\n",
    "        if by == 'st':\n",
    "            return np.std(self.st_atr[x])\n",
    "        else:\n",
    "            return np.std(self.tr_atr[x])\n",
    "        \n",
    "    def regress(self, X, y, normalize=False):\n",
    "        \"\"\"\n",
    "        data: `st_atr` or `tr_atr`\n",
    "        target: `f1` or `f2`\n",
    "        \"\"\"\n",
    "        if not X.any():\n",
    "            return None, None\n",
    "        \n",
    "        lr = LinearRegression(normalize=normalize)\n",
    "        lr.fit(X, y)\n",
    "        return lr.coef_, lr.intercept_\n",
    "        \n",
    "    def fit(self, target, by):\n",
    "        \"\"\"\n",
    "        self.`st|tr`_coef = {target: [fitted coef_, fitted intercept_]}\n",
    "        \"\"\"\n",
    "        if by == 'st':\n",
    "            coef, intercept = self.regress(self.st_atr['time'].reshape(-1, 1), self.st_atr[target])\n",
    "            self.st_coef[target] = [coef, intercept]\n",
    "        else:\n",
    "            coef, intercept = self.regress(self.tr_atr['time'].reshape(-1, 1), self.tr_atr[target])\n",
    "            self.tr_coef[target] = [coef, intercept]\n",
    "            \n",
    "    def rmse(self, target, by):\n",
    "        if by == 'st':\n",
    "            score = mean_squared_error(self.st_atr[target],\n",
    "                                       self.st_atr['time']  * self.st_coef[target][0] + self.st_coef[target][1])\n",
    "            return round(np.sqrt(score), 4)\n",
    "        else:\n",
    "            score = mean_squared_error(self.tr_atr[target],\n",
    "                                       self.tr_atr['time']  * self.tr_coef[target][0] + self.tr_coef[target][1])\n",
    "            return round(np.sqrt(score), 4)\n",
    "        \n",
    "    def r2(self, target, by):\n",
    "        if by == 'st':\n",
    "            score = r2_score(self.st_atr[target],\n",
    "                                       self.st_atr['time']  * self.st_coef[target][0] + self.st_coef[target][1])\n",
    "            return round(score, 4)\n",
    "        else:\n",
    "            score = r2_score(self.tr_atr[target],\n",
    "                                       self.tr_atr['time']  * self.tr_coef[target][0] + self.tr_coef[target][1])\n",
    "            return round(score, 4)\n",
    "            \n",
    "    def plot_fit(self, target, by, target_style='scatter', ylabel=None, legend=True, fsize=(6, 4)):\n",
    "        plt.figure(figsize=fsize)\n",
    "        if by == 'st':\n",
    "            if target_style == 'scatter':\n",
    "                plt.scatter(self.st_atr['time'], self.st_atr[target], color='b', alpha=0.5)\n",
    "                plt.plot(self.st_atr['time'], self.st_atr[target], color='b', alpha=0.45)\n",
    "            else:\n",
    "                plt.plot(self.st_atr['time'], self.st_atr[target], color='b', alpha=0.9)\n",
    "            coef = self.st_coef[target][0]\n",
    "            intercept = self.st_coef[target][1]\n",
    "            plt.plot(self.st_atr['time'], self.st_atr['time'] * coef + intercept,\n",
    "                     color='r', alpha=0.6)\n",
    "        else:\n",
    "            if target_style == 'scatter':\n",
    "                plt.scatter(self.tr_atr['time'], self.tr_atr[target], color='b', alpha=0.5)\n",
    "                plt.plot(self.tr_atr['time'], self.tr_atr[target], color='b', alpha=0.45)\n",
    "            else:\n",
    "                plt.plot(self.tr_atr['time'], self.tr_atr[target], color='b', alpha=0.9)\n",
    "            coef = self.tr_coef[target][0]\n",
    "            intercept = self.tr_coef[target][1]\n",
    "            plt.plot(self.tr_atr['time'], self.tr_atr['time'] * coef + intercept,\n",
    "                     color='r', alpha=0.6)\n",
    "            \n",
    "        if legend:\n",
    "            _coef = 'coef = %s' % round(coef[0], 2)\n",
    "            _intercept = 'intercept = %s' % round(intercept, 2)\n",
    "            rmse = 'RMSE = %s' % self.rmse(target, by)\n",
    "            r2 = 'R2 = %s' % self.r2(target, by)\n",
    "            els = [Line2D([0], [0], color='w', label=_coef),\n",
    "                   Line2D([0], [0], color='w', label=_intercept),\n",
    "                   Line2D([0], [0], color='w', label=rmse),\n",
    "                   Line2D([0], [0], color='w', label=r2)]\n",
    "            plt.legend(handles=els, bbox_to_anchor=(1, 1))\n",
    "        \n",
    "        plt.title('%s' % self.info())\n",
    "        plt.xlabel('Time, ms.')\n",
    "        if ylabel is None:\n",
    "            plt.ylabel(target)\n",
    "        else:\n",
    "            plt.ylabel(ylabel)\n",
    "    \n",
    "    def build(self):\n",
    "        self.get_sound()\n",
    "        self.get_status()\n",
    "        self.get_prev()\n",
    "        self.get_next()\n",
    "        self.get_len()\n",
    "        self.build_st_atr()\n",
    "        self.build_tr_atr()\n",
    "        self.fit('f1', 'st')\n",
    "        self.fit('f2', 'st')\n",
    "        self.fit('f1', 'tr')\n",
    "        self.fit('f2', 'tr')\n",
    "        "
   ]
  },
  {
   "cell_type": "code",
   "execution_count": 284,
   "metadata": {
    "collapsed": true
   },
   "outputs": [],
   "source": [
    "vs = read_csv('3')"
   ]
  },
  {
   "cell_type": "code",
   "execution_count": 285,
   "metadata": {},
   "outputs": [],
   "source": [
    "_v = deepcopy(vs[-1])\n",
    "_v.build()"
   ]
  },
  {
   "cell_type": "code",
   "execution_count": 286,
   "metadata": {},
   "outputs": [
    {
     "data": {
      "text/plain": [
       "\"sound=а, prev=г, next=л', len=178.0, status=0\""
      ]
     },
     "execution_count": 286,
     "metadata": {},
     "output_type": "execute_result"
    }
   ],
   "source": [
    "_v.info()"
   ]
  },
  {
   "cell_type": "code",
   "execution_count": 287,
   "metadata": {},
   "outputs": [
    {
     "data": {
      "image/png": "[encoded data removed]",
      "text/plain": [
       "<matplotlib.figure.Figure at 0x2c550535240>"
      ]
     },
     "metadata": {},
     "output_type": "display_data"
    }
   ],
   "source": [
    "_v.plot_fit('f2', 'tr')"
   ]
  },
  {
   "cell_type": "code",
   "execution_count": 207,
   "metadata": {},
   "outputs": [
    {
     "data": {
      "text/plain": [
       "48.466153861434634"
      ]
     },
     "execution_count": 207,
     "metadata": {},
     "output_type": "execute_result"
    }
   ],
   "source": [
    "_v.std('f2', 'st')"
   ]
  },
  {
   "cell_type": "code",
   "execution_count": null,
   "metadata": {
    "collapsed": true
   },
   "outputs": [],
   "source": []
  },
  {
   "cell_type": "code",
   "execution_count": null,
   "metadata": {
    "collapsed": true
   },
   "outputs": [],
   "source": []
  },
  {
   "cell_type": "code",
   "execution_count": 125,
   "metadata": {
    "collapsed": true
   },
   "outputs": [],
   "source": [
    "def read_csv(sound_name):\n",
    "    def get_sound_idx(line):\n",
    "        return int(line.split(',')[1])\n",
    "    \n",
    "    cont = list()\n",
    "    _idx = -1\n",
    "    cnt = 0\n",
    "    cV = None\n",
    "    f = open('%s\\%s.csv' % (PATH, sound_name), 'r', encoding='utf-8').readlines()[1:]\n",
    "     \n",
    "    for i, line in enumerate(f):\n",
    "        c_idx = get_sound_idx(line)\n",
    "        if c_idx != _idx:\n",
    "            if cV is not None:\n",
    "                cont.append(cV)\n",
    "            cV = V(sound_name, c_idx, cnt)\n",
    "            _idx = c_idx\n",
    "            cnt += 1\n",
    "        cV.add_line(line)\n",
    "    \n",
    "    # the last vowel\n",
    "    cont.append(cV)\n",
    "        \n",
    "    return cont"
   ]
  },
  {
   "cell_type": "code",
   "execution_count": 154,
   "metadata": {},
   "outputs": [],
   "source": [
    "vs = read_csv('3')"
   ]
  },
  {
   "cell_type": "code",
   "execution_count": 49,
   "metadata": {},
   "outputs": [
    {
     "data": {
      "text/plain": [
       "[V(3, 2),\n",
       " V(3, 4),\n",
       " V(3, 6),\n",
       " V(3, 8),\n",
       " V(3, 10),\n",
       " V(3, 12),\n",
       " V(3, 14),\n",
       " V(3, 16),\n",
       " V(3, 18),\n",
       " V(3, 20),\n",
       " V(3, 22),\n",
       " V(3, 24)]"
      ]
     },
     "execution_count": 49,
     "metadata": {},
     "output_type": "execute_result"
    }
   ],
   "source": [
    "vs"
   ]
  },
  {
   "cell_type": "code",
   "execution_count": 26,
   "metadata": {},
   "outputs": [
    {
     "data": {
      "text/plain": [
       "['?a, 2, st, 2, 21.098546051358344, --undefined--, 74.04784699796359, 780.7128247251602, 1785.0800489204034',\n",
       " '?a, 2, st, 2, 21.117913349849772, 126.84509272753431, 80.02664418359653, 738.7000905771761, 2323.69514271682',\n",
       " '?a, 2, st, 2, 21.1372806483412, 126.40436492825674, 83.07601331748558, 875.301108234363, 2525.307299462071',\n",
       " '?a, 2, st, 2, 21.156647946832628, 124.45821241072044, 84.25461695165832, 984.7231511375725, 2477.8641679074067',\n",
       " '?a, 2, st, 2, 21.195382543815477, 118.7396996792083, 85.01303914172488, 943.3685804258288, 2494.2865969511986',\n",
       " '?a, 2, tr, 3, 21.195382543815477, 118.7396996792083, 85.01303914172488, 943.3685804258288, 2494.2865969511986',\n",
       " '?a, 2, tr, 3, 21.206018513217938, 117.32776043831485, 84.67347150860823, 970.772707410967, 2494.820286977796',\n",
       " '?a, 2, tr, 3, 21.2166544826204, 115.77673199494662, 83.85291902163311, 962.4761556766317, 2388.5580006502737',\n",
       " '?a, 2, tr, 3, 21.22729045202286, 114.11919947205664, 82.28201107237678, 1126.9356457738588, 2340.209556893246',\n",
       " '?a, 2, tr, 3, 21.248562390827775, 113.07022447536045, 76.08964553696676, 1267.930994791721, 2622.611232126886']"
      ]
     },
     "execution_count": 26,
     "metadata": {},
     "output_type": "execute_result"
    }
   ],
   "source": [
    "vs[0].lines"
   ]
  },
  {
   "cell_type": "code",
   "execution_count": null,
   "metadata": {
    "collapsed": true
   },
   "outputs": [],
   "source": []
  }
 ],
 "metadata": {
  "kernelspec": {
   "display_name": "Python 3",
   "language": "python",
   "name": "python3"
  },
  "language_info": {
   "codemirror_mode": {
    "name": "ipython",
    "version": 3
   },
   "file_extension": ".py",
   "mimetype": "text/x-python",
   "name": "python",
   "nbconvert_exporter": "python",
   "pygments_lexer": "ipython3",
   "version": "3.6.1"
  }
 },
 "nbformat": 4,
 "nbformat_minor": 2
}
