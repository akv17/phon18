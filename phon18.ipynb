{
 "cells": [
  {
   "cell_type": "code",
   "execution_count": 1,
   "metadata": {
    "collapsed": true
   },
   "outputs": [],
   "source": [
    "import numpy as np\n",
    "import pandas as pd\n",
    "import matplotlib.pyplot as plt\n",
    "%matplotlib inline\n",
    "from matplotlib.lines import Line2D\n",
    "from copy import deepcopy\n",
    "from sklearn.linear_model import LinearRegression\n",
    "from sklearn.metrics import mean_squared_error, r2_score"
   ]
  },
  {
   "cell_type": "markdown",
   "metadata": {},
   "source": [
    "Attributes:\n",
    "- sound\n",
    "- prev\n",
    "- next\n",
    "- len\n",
    "- status\n",
    "- f1\n",
    "- f1_edge_delta (delta between stable and transition edge points)\n",
    "- f1_inner_delta (delta between stable or transition inner edge points)\n",
    "- f2\n",
    "- f2_edge_delta\n",
    "- f2_inner_delta\n",
    "- intensity\n",
    "- len (by segment)\n",
    "- pitch\n",
    "- time\n",
    "- stable f1 coef\n",
    "- stable f1 bias\n",
    "- trans f1 coef\n",
    "- trans f1 bias\n",
    "- stable f2 coef\n",
    "- stable f2 bias\n",
    "- trans f2 coef\n",
    "- trans f2 bias"
   ]
  },
  {
   "cell_type": "code",
   "execution_count": null,
   "metadata": {
    "collapsed": true
   },
   "outputs": [],
   "source": []
  },
  {
   "cell_type": "code",
   "execution_count": null,
   "metadata": {
    "collapsed": true
   },
   "outputs": [],
   "source": []
  },
  {
   "cell_type": "code",
   "execution_count": null,
   "metadata": {
    "collapsed": true
   },
   "outputs": [],
   "source": []
  },
  {
   "cell_type": "code",
   "execution_count": 2,
   "metadata": {
    "collapsed": true
   },
   "outputs": [],
   "source": [
    "plt.style.use('ggplot')"
   ]
  },
  {
   "cell_type": "code",
   "execution_count": 3,
   "metadata": {
    "collapsed": true
   },
   "outputs": [],
   "source": [
    "PATH = r'C:\\Users\\PC\\Desktop\\stu\\phon17_18\\praat'\n",
    "NA = '--undefined--'\n",
    "CONS = [(\"к\", \"п'\"), (\"г\", \"л'\"), (\"к\", \"й\"), (\"к\", \"т'\"), (\"г\", \"п'\"), (\"к\", \"й\"),\n",
    "        (\"г\", \"т'\"), (\"г\", \"й\"), (\"к\", \"л'\"), (\"к\", \"п'\"), (\"к\", \"т'\"), (\"г\", \"л'\")]\n",
    "HEADER = ['sound', 'sound_idx', 'segment', 'segment_idx', 'time', 'pitch', 'intensity', 'f1', 'f2']"
   ]
  },
  {
   "cell_type": "code",
   "execution_count": 4,
   "metadata": {
    "collapsed": true
   },
   "outputs": [],
   "source": [
    "COLUMNS = [\n",
    "           'rec', 'status', 'sound', 'prev', 'next', 'len', 'ratio', 'st_len', 'tr_len',\n",
    "           'f1_inner_delta', 'f1_edge_delta', 'f2_inner_delta', 'f2_edge_delta',\n",
    "           'f1_st_coef', 'f1_st_bias', 'f1_tr_coef', 'f1_tr_bias',\n",
    "           'f2_st_coef', 'f2_st_bias', 'f2_tr_coef', 'f2_tr_bias',\n",
    "           'pitch_st_1', 'pitch_st_2', 'pitch_st_3', 'pitch_st_4', 'pitch_st_5',\n",
    "           'pitch_tr_1', 'pitch_tr_2', 'pitch_tr_3', 'pitch_tr_4', 'pitch_tr_5',\n",
    "           'intensity_st_1', 'intensity_st_2', 'intensity_st_3', 'intensity_st_4', 'intensity_st_5',\n",
    "           'intensity_tr_1', 'intensity_tr_2', 'intensity_tr_3', 'intensity_tr_4', 'intensity_tr_5',\n",
    "           'f1_st_1', 'f1_st_2', 'f1_st_3', 'f1_st_4', 'f1_st_5',\n",
    "           'f1_tr_1', 'f1_tr_2', 'f1_tr_3', 'f1_tr_4', 'f1_tr_5',\n",
    "           'f2_st_1', 'f2_st_2', 'f2_st_3', 'f2_st_4', 'f2_st_5',\n",
    "           'f2_tr_1', 'f2_tr_2', 'f2_tr_3', 'f2_tr_4', 'f2_tr_5'\n",
    "           ]"
   ]
  },
  {
   "cell_type": "code",
   "execution_count": null,
   "metadata": {
    "collapsed": true
   },
   "outputs": [],
   "source": []
  },
  {
   "cell_type": "code",
   "execution_count": 5,
   "metadata": {
    "collapsed": true
   },
   "outputs": [],
   "source": [
    "def read_csv(sound_name, build=True):\n",
    "    def get_sound_idx(line):\n",
    "        return int(line.split(',')[1])\n",
    "    \n",
    "    cont = list()\n",
    "    _idx = -1\n",
    "    cnt = 0\n",
    "    cV = None\n",
    "    f = open('%s\\%s.csv' % (PATH, sound_name), 'r', encoding='utf-8').readlines()[1:]\n",
    "     \n",
    "    for i, line in enumerate(f):\n",
    "        c_idx = get_sound_idx(line)\n",
    "        if c_idx != _idx and line.split(',')[0].strip():\n",
    "            if cV is not None:\n",
    "                cont.append(cV)\n",
    "            cV = V(sound_name, c_idx, cnt)\n",
    "            _idx = c_idx\n",
    "            cnt += 1\n",
    "        if line.split(',')[0].strip():\n",
    "            cV.add_line(line)\n",
    "    \n",
    "    # the last vowel\n",
    "    cont.append(cV)\n",
    "    \n",
    "    for v in cont: v.build()\n",
    "    \n",
    "    return cont"
   ]
  },
  {
   "cell_type": "code",
   "execution_count": 23,
   "metadata": {
    "collapsed": true
   },
   "outputs": [],
   "source": [
    "#vs = read_csv('')"
   ]
  },
  {
   "cell_type": "code",
   "execution_count": 30,
   "metadata": {
    "collapsed": true
   },
   "outputs": [],
   "source": [
    "class V:\n",
    "    \n",
    "    def __init__(self, rec, sound_idx, idx):\n",
    "        \"\"\"\n",
    "        rec: номер записи\n",
    "        sound_idx: индекс в текстгриде\n",
    "        idx: порядковый номер гласного в тексте\n",
    "        \"\"\"\n",
    "        self.rec = rec\n",
    "        self.sound_idx = sound_idx\n",
    "        self.idx = idx\n",
    "         \n",
    "        self.lines = list()\n",
    "        self.info_line = 'sound=%s, prev=%s, next=%s, len=%s, status=%s'\n",
    "        self.atrs = ['time', 'pitch', 'intensity', 'f1', 'f2']\n",
    "        self.atr_idxs = [4, 5, 6, 7, 8]\n",
    "        self.st_coef = dict()\n",
    "        self.tr_coef = dict()\n",
    "        self.sound_map = {'e': 'е',\n",
    "                          'a': 'а',\n",
    "                          'u': 'у'\n",
    "                         }\n",
    "        \n",
    "    def __str__(self):\n",
    "        return 'V(%s, %s)' % (self.rec, self.sound_idx)\n",
    "            \n",
    "    __repr__ = __str__\n",
    "    \n",
    "    def info(self):\n",
    "        return self.info_line % (self.sound, self.prev, self.next,\n",
    "                                 round(self.len, 2), self.status)\n",
    "    \n",
    "    def add_line(self, x):\n",
    "        self.lines.append(x.strip())\n",
    "        \n",
    "    def to_int(self, line, idx):\n",
    "        if NA in line.split(',')[idx]:\n",
    "            return np.nan\n",
    "        return int(line.split(',')[idx])\n",
    "    \n",
    "    def to_float(self, line, idx):\n",
    "        if NA in line.split(',')[idx]:\n",
    "            return np.nan\n",
    "        return float(line.split(',')[idx])\n",
    "    \n",
    "    def get_status(self):\n",
    "        \"\"\"\n",
    "        0: ok\n",
    "        1: uncertain transition\n",
    "        2: uncertain spectrum\n",
    "        \"\"\"\n",
    "        x = self.lines[0].split(',')[0].strip() \n",
    "        if x[0] == '?':\n",
    "            self.status = 1\n",
    "        elif x[0] == '!':\n",
    "            self.status = 2\n",
    "        else:\n",
    "            self.status = 0\n",
    "    \n",
    "    def get_sound(self):\n",
    "        x = self.lines[0].split(',')[0].strip()\n",
    "        x = x.replace('?', '').replace('!', '')\n",
    "        self.sound = self.sound_map[x]\n",
    "        \n",
    "    def get_prev(self):\n",
    "        self.prev = CONS[self.idx][0]\n",
    "        \n",
    "    def get_next(self):\n",
    "        self.next = CONS[self.idx][1]\n",
    "        \n",
    "    def get_len(self):\n",
    "        _len = self.to_float(self.lines[-1], 4) - self.to_float(self.lines[0], 4) \n",
    "        self.len = _len * 1000\n",
    "        \n",
    "    def delta_prop(self, x):\n",
    "        props = [0]\n",
    "\n",
    "        for i in range(1, len(x)):\n",
    "            props.append(abs(((100 * x[i]) / x[i-1]) - 100))\n",
    "\n",
    "        return np.array(props)\n",
    "    \n",
    "    def build_st_atr(self):\n",
    "        self.st_atr = {a: np.array([]) for a in self.atrs}\n",
    "        \n",
    "        for i in range(len(self.lines)):\n",
    "            if self.lines[i].split(',')[2].strip() == 'st':\n",
    "                for j, atr in enumerate(self.atrs):\n",
    "                    #self.tr_atr[atr].append(self.to_float(self.lines[i], self.atr_idxs[j]))\n",
    "                    self.st_atr[atr] = np.append(self.st_atr[atr], [self.to_float(self.lines[i], self.atr_idxs[j])])\n",
    "                    \n",
    "        if self.st_atr['time'].any():\n",
    "            self.st_atr['len'] = self.st_atr['time'][-1] - self.st_atr['time'][0]\n",
    "            self.st_atr['len'] *= 1000\n",
    "        else:\n",
    "            self.st_atr['len'] = None\n",
    "            \n",
    "        if self.st_atr['f1'].any():\n",
    "            self.st_atr['f1_inner_delta'] = self.st_atr['f1'][-1] - self.st_atr['f1'][0]\n",
    "            self.st_atr['f1_delta_prop'] = self.delta_prop(self.st_atr['f1'])\n",
    "        else:\n",
    "            self.st_atr['f1_inner_delta'] = None\n",
    "            self.st_atr['f1_delta_prop'] = None\n",
    "            \n",
    "        if self.st_atr['f2'].any():\n",
    "            self.st_atr['f2_inner_delta'] = self.st_atr['f2'][-1] - self.st_atr['f2'][0]\n",
    "            self.st_atr['f2_delta_prop'] = self.delta_prop(self.st_atr['f2'])\n",
    "        else:\n",
    "            self.st_atr['f2_inner_delta'] = None\n",
    "            self.st_atr['f2_delta_prop'] = None\n",
    "            \n",
    "        self.st_atr['f1_edge_delta'] = None\n",
    "        self.st_atr['f2_edge_delta'] = None\n",
    "        \n",
    "        self.st_atr['smoothed_f1'] = False\n",
    "        self.st_atr['smoothed_f2'] = False\n",
    "            \n",
    "    def build_tr_atr(self):\n",
    "        self.tr_atr = {a: np.array([]) for a in self.atrs}\n",
    "        \n",
    "        for i in range(len(self.lines)):\n",
    "            if self.lines[i].split(',')[2].strip() == 'tr':\n",
    "                for j, atr in enumerate(self.atrs):\n",
    "                    #self.tr_atr[atr].append(self.to_float(self.lines[i], self.atr_idxs[j]))\n",
    "                    self.tr_atr[atr] = np.append(self.tr_atr[atr], [self.to_float(self.lines[i], self.atr_idxs[j])])\n",
    "        \n",
    "        if self.tr_atr['time'].any():\n",
    "            self.tr_atr['len'] = self.tr_atr['time'][-1] - self.tr_atr['time'][0]\n",
    "            self.tr_atr['len'] *= 1000\n",
    "        else:\n",
    "            self.tr_atr['len'] = None\n",
    "        \n",
    "        if self.tr_atr['f1'].any():\n",
    "            self.tr_atr['f1_inner_delta'] = self.tr_atr['f1'][-1] - self.tr_atr['f1'][0]\n",
    "            self.tr_atr['f1_delta_prop'] = self.delta_prop(self.tr_atr['f1'])\n",
    "        else:\n",
    "            self.tr_atr['f1_inner_delta'] = None\n",
    "            self.tr_atr['f1_delta_prop'] = None\n",
    "        \n",
    "        if self.tr_atr['f2'].any():\n",
    "            self.tr_atr['f2_inner_delta'] = self.tr_atr['f2'][-1] - self.tr_atr['f2'][0]\n",
    "            self.tr_atr['f2_delta_prop'] = self.delta_prop(self.tr_atr['f2'])\n",
    "        else:\n",
    "            self.tr_atr['f2_inner_delta'] = None\n",
    "            self.tr_atr['f2_delta_prop'] = None\n",
    "        \n",
    "        if self.st_atr['f1'].any() and self.tr_atr['f1'].any():\n",
    "            self.tr_atr['f1_edge_delta'] = self.tr_atr['f1'][-1] - self.st_atr['f1'][-1]\n",
    "        else:\n",
    "            self.tr_atr['f1_edge_delta'] = None\n",
    "            \n",
    "        if self.st_atr['f2'].any() and self.tr_atr['f2'].any():\n",
    "            self.tr_atr['f2_edge_delta'] = self.tr_atr['f2'][-1] - self.st_atr['f2'][-1]\n",
    "        else:\n",
    "            self.tr_atr['f2_edge_delta'] = None\n",
    "            \n",
    "        self.tr_atr['smoothed_f1'] = False\n",
    "        self.tr_atr['smoothed_f2'] = False\n",
    "            \n",
    "    def get_ratio(self):\n",
    "        if self.tr_atr['len'] is not None:\n",
    "            self.ratio = (100 * self.tr_atr['len']) / self.len\n",
    "        else:\n",
    "            self.ratio = 0.0\n",
    "        \n",
    "    def mean(self, x, by):\n",
    "        if by == 'st':\n",
    "            return np.mean(self.st_atr[x])\n",
    "        else:\n",
    "            return np.mean(self.tr_atr[x])\n",
    "        \n",
    "    def std(self, x, by):\n",
    "        if by == 'st':\n",
    "            return np.std(self.st_atr[x])\n",
    "        else:\n",
    "            return np.std(self.tr_atr[x])\n",
    "        \n",
    "    def regress(self, X, y, normalize=False):\n",
    "        \"\"\"\n",
    "        data: `st_atr` or `tr_atr`\n",
    "        target: `f1` or `f2`\n",
    "        \"\"\"\n",
    "        if not X.any():\n",
    "            return None, None\n",
    "        \n",
    "        lr = LinearRegression(normalize=normalize)\n",
    "        lr.fit(X, y)\n",
    "        return lr.coef_[0], lr.intercept_\n",
    "        \n",
    "    def fit(self, target, by):\n",
    "        \"\"\"\n",
    "        self.`st|tr`_coef = {target: [fitted coef_, fitted intercept_]}\n",
    "        \"\"\"\n",
    "        if by == 'st':\n",
    "            coef, intercept = self.regress(self.st_atr['time'].reshape(-1, 1), self.st_atr[target])\n",
    "            self.st_coef[target] = [coef, intercept]\n",
    "        else:\n",
    "            coef, intercept = self.regress(self.tr_atr['time'].reshape(-1, 1), self.tr_atr[target])\n",
    "            self.tr_coef[target] = [coef, intercept]\n",
    "            \n",
    "    def rmse(self, target, by):\n",
    "        if by == 'st':\n",
    "            score = mean_squared_error(self.st_atr[target],\n",
    "                                       self.st_atr['time']  * self.st_coef[target][0] + self.st_coef[target][1])\n",
    "            return round(np.sqrt(score), 4)\n",
    "        else:\n",
    "            score = mean_squared_error(self.tr_atr[target],\n",
    "                                       self.tr_atr['time']  * self.tr_coef[target][0] + self.tr_coef[target][1])\n",
    "            return round(np.sqrt(score), 4)\n",
    "        \n",
    "    def r2(self, target, by):\n",
    "        if by == 'st':\n",
    "            score = r2_score(self.st_atr[target],\n",
    "                                       self.st_atr['time']  * self.st_coef[target][0] + self.st_coef[target][1])\n",
    "            return round(score, 4)\n",
    "        else:\n",
    "            score = r2_score(self.tr_atr[target],\n",
    "                                       self.tr_atr['time']  * self.tr_coef[target][0] + self.tr_coef[target][1])\n",
    "            return round(score, 4)\n",
    "            \n",
    "    def plot_fit(self, target, by, target_style='scatter', ylabel=None, legend=True, fsize=(6, 4)):\n",
    "        plt.figure(figsize=fsize)\n",
    "        if by == 'st':\n",
    "            if target_style == 'scatter':\n",
    "                plt.scatter(self.st_atr['time'], self.st_atr[target], color='b', alpha=0.5)\n",
    "                plt.plot(self.st_atr['time'], self.st_atr[target], color='b', alpha=0.45)\n",
    "            else:\n",
    "                plt.plot(self.st_atr['time'], self.st_atr[target], color='b', alpha=0.9)\n",
    "            coef = self.st_coef[target][0]\n",
    "            intercept = self.st_coef[target][1]\n",
    "            plt.plot(self.st_atr['time'], self.st_atr['time'] * coef + intercept,\n",
    "                     color='r', alpha=0.6)\n",
    "        else:\n",
    "            if target_style == 'scatter':\n",
    "                plt.scatter(self.tr_atr['time'], self.tr_atr[target], color='b', alpha=0.5)\n",
    "                plt.plot(self.tr_atr['time'], self.tr_atr[target], color='b', alpha=0.45)\n",
    "            else:\n",
    "                plt.plot(self.tr_atr['time'], self.tr_atr[target], color='b', alpha=0.9)\n",
    "            coef = self.tr_coef[target][0]\n",
    "            intercept = self.tr_coef[target][1]\n",
    "            plt.plot(self.tr_atr['time'], self.tr_atr['time'] * coef + intercept,\n",
    "                     color='r', alpha=0.6)\n",
    "            \n",
    "        if legend:\n",
    "            _coef = 'coef = %s' % round(coef[0], 2)\n",
    "            _intercept = 'intercept = %s' % round(intercept, 2)\n",
    "            rmse = 'RMSE = %s' % self.rmse(target, by)\n",
    "            r2 = 'R2 = %s' % self.r2(target, by)\n",
    "            els = [Line2D([0], [0], color='w', label=_coef),\n",
    "                   Line2D([0], [0], color='w', label=_intercept),\n",
    "                   Line2D([0], [0], color='w', label=rmse),\n",
    "                   Line2D([0], [0], color='w', label=r2)]\n",
    "            plt.legend(handles=els, bbox_to_anchor=(1, 1))\n",
    "        \n",
    "        plt.title('%s' % self.info())\n",
    "        plt.xlabel('Time, ms.')\n",
    "        if ylabel is None:\n",
    "            plt.ylabel(target)\n",
    "        else:\n",
    "            plt.ylabel(ylabel)\n",
    "    \n",
    "    def build(self):\n",
    "        self.get_sound()\n",
    "        self.get_status()\n",
    "        self.get_prev()\n",
    "        self.get_next()\n",
    "        self.get_len()\n",
    "        self.build_st_atr()\n",
    "        self.build_tr_atr()\n",
    "        self.get_ratio()\n",
    "        self.fit('f1', 'st')\n",
    "        self.fit('f2', 'st')\n",
    "        self.fit('f1', 'tr')\n",
    "        self.fit('f2', 'tr')\n",
    "        "
   ]
  },
  {
   "cell_type": "code",
   "execution_count": 81,
   "metadata": {
    "collapsed": true
   },
   "outputs": [],
   "source": [
    "vs = read_csv('5')"
   ]
  },
  {
   "cell_type": "code",
   "execution_count": 44,
   "metadata": {
    "collapsed": true
   },
   "outputs": [],
   "source": [
    "#for v in vs: print(v.len)"
   ]
  },
  {
   "cell_type": "code",
   "execution_count": 82,
   "metadata": {
    "collapsed": true
   },
   "outputs": [],
   "source": [
    "_v = deepcopy(vs[0])\n",
    "_v.build()"
   ]
  },
  {
   "cell_type": "code",
   "execution_count": 50,
   "metadata": {},
   "outputs": [
    {
     "data": {
      "text/plain": [
       "{'f1': array([], dtype=float64),\n",
       " 'f1_edge_delta': None,\n",
       " 'f1_inner_delta': None,\n",
       " 'f2': array([], dtype=float64),\n",
       " 'f2_edge_delta': None,\n",
       " 'f2_inner_delta': None,\n",
       " 'intensity': array([], dtype=float64),\n",
       " 'len': None,\n",
       " 'pitch': array([], dtype=float64),\n",
       " 'time': array([], dtype=float64)}"
      ]
     },
     "execution_count": 50,
     "metadata": {},
     "output_type": "execute_result"
    }
   ],
   "source": [
    "_v.st_atr"
   ]
  },
  {
   "cell_type": "code",
   "execution_count": 53,
   "metadata": {},
   "outputs": [
    {
     "data": {
      "text/plain": [
       "array([1])"
      ]
     },
     "execution_count": 53,
     "metadata": {},
     "output_type": "execute_result"
    }
   ],
   "source": [
    "a = np.array([1])\n",
    "np.append(a, np.array([None]))\n",
    "a"
   ]
  },
  {
   "cell_type": "code",
   "execution_count": null,
   "metadata": {
    "collapsed": true
   },
   "outputs": [],
   "source": []
  },
  {
   "cell_type": "code",
   "execution_count": null,
   "metadata": {
    "collapsed": true
   },
   "outputs": [],
   "source": []
  },
  {
   "cell_type": "code",
   "execution_count": null,
   "metadata": {
    "collapsed": true
   },
   "outputs": [],
   "source": []
  },
  {
   "cell_type": "code",
   "execution_count": 7,
   "metadata": {
    "collapsed": true
   },
   "outputs": [],
   "source": [
    "COLUMNS = [\n",
    "           'rec', 'status', 'sound', 'prev', 'next', 'len', 'ratio', 'st_len', 'tr_len',\n",
    "           'f1_inner_delta_st', 'f1_edge_delta_st', 'f2_inner_delta_st', 'f2_edge_delta_st',\n",
    "           'f1_inner_delta_tr', 'f1_edge_delta_tr', 'f2_inner_delta_tr', 'f2_edge_delta_tr',\n",
    "           'f1_st_coef', 'f1_st_bias', 'f1_tr_coef', 'f1_tr_bias',\n",
    "           'f2_st_coef', 'f2_st_bias', 'f2_tr_coef', 'f2_tr_bias',\n",
    "           'pitch_st_1', 'pitch_st_2', 'pitch_st_3', 'pitch_st_4', 'pitch_st_5',\n",
    "           'pitch_tr_1', 'pitch_tr_2', 'pitch_tr_3', 'pitch_tr_4', 'pitch_tr_5',\n",
    "           'intensity_st_1', 'intensity_st_2', 'intensity_st_3', 'intensity_st_4', 'intensity_st_5',\n",
    "           'intensity_tr_1', 'intensity_tr_2', 'intensity_tr_3', 'intensity_tr_4', 'intensity_tr_5',\n",
    "           'f1_st_1', 'f1_st_2', 'f1_st_3', 'f1_st_4', 'f1_st_5',\n",
    "           'f1_tr_1', 'f1_tr_2', 'f1_tr_3', 'f1_tr_4', 'f1_tr_5',\n",
    "           'f2_st_1', 'f2_st_2', 'f2_st_3', 'f2_st_4', 'f2_st_5',\n",
    "           'f2_tr_1', 'f2_tr_2', 'f2_tr_3', 'f2_tr_4', 'f2_tr_5'\n",
    "           ]\n",
    "\n",
    "# : - key-val marker;  # - iterable marker\n",
    "\n",
    "PARAM_MAP = [\n",
    "             'rec', 'status', 'sound', 'prev', 'next', 'len', 'ratio', 'st_atr:len', 'tr_atr:len',\n",
    "             'st_atr:f1_inner_delta', 'st_atr:f1_edge_delta', 'st_atr:f2_inner_delta', 'st_atr:f2_edge_delta',\n",
    "             'tr_atr:f1_inner_delta', 'tr_atr:f1_edge_delta', 'tr_atr:f2_inner_delta', 'tr_atr:f2_edge_delta',\n",
    "             '#st_coef:f1', '#tr_coef:f1', '#st_coef:f2', '#tr_coef:f2',\n",
    "             '#st_atr:pitch', '#tr_atr:pitch',\n",
    "             '#st_atr:intensity', '#tr_atr:intensity',\n",
    "             '#st_atr:f1', '#tr_atr:f1', '#st_atr:f2', '#tr_atr:f2'\n",
    "            ]"
   ]
  },
  {
   "cell_type": "code",
   "execution_count": 59,
   "metadata": {
    "collapsed": true
   },
   "outputs": [],
   "source": [
    "#_v.__dict__"
   ]
  },
  {
   "cell_type": "code",
   "execution_count": 8,
   "metadata": {
    "collapsed": true
   },
   "outputs": [],
   "source": [
    "def build_df(vs):\n",
    "    def spread(x):\n",
    "        if not x.any():\n",
    "            return np.zeros\n",
    "    recs = list()\n",
    "    \n",
    "    for v in vs:\n",
    "        _rec = list()\n",
    "        for prm in PARAM_MAP:\n",
    "            if ':' in prm:\n",
    "                key = prm.split(':')[0]\n",
    "                val = prm.split(':')[1]\n",
    "                if '#' in prm:\n",
    "                    key = key.replace('#', '')\n",
    "                    x = v.__dict__[key][val]\n",
    "                    if list(x):\n",
    "                        _rec.extend(list(x))\n",
    "                    else:\n",
    "                        _rec.extend([None for _ in range(5)])\n",
    "                else:\n",
    "                    x = v.__dict__[key][val]\n",
    "                    _rec.append(x)\n",
    "            else:\n",
    "                x = v.__dict__[prm]\n",
    "                _rec.append(x)\n",
    "            # print('prm: %s\\nrec: %s\\nPARAM: %s\\n' % (prm, _rec, COLUMNS[len(_rec)-1]))\n",
    "\n",
    "        assert len(_rec) == len(COLUMNS)\n",
    "\n",
    "        recs.append(_rec)\n",
    "        \n",
    "    df = pd.DataFrame.from_records(recs, columns=COLUMNS)\n",
    "    df.replace([None], [np.nan], inplace=True)\n",
    "    \n",
    "    return df"
   ]
  },
  {
   "cell_type": "code",
   "execution_count": null,
   "metadata": {
    "collapsed": true
   },
   "outputs": [],
   "source": []
  },
  {
   "cell_type": "code",
   "execution_count": null,
   "metadata": {
    "collapsed": true
   },
   "outputs": [],
   "source": []
  },
  {
   "cell_type": "code",
   "execution_count": 9,
   "metadata": {
    "collapsed": true
   },
   "outputs": [],
   "source": [
    "def load(recs):\n",
    "    E = list()\n",
    "    A = list()\n",
    "    U = list()\n",
    "    \n",
    "    for rec in recs:\n",
    "        vs = read_csv(str(rec))\n",
    "        for v in vs:\n",
    "            if v.sound == 'е':\n",
    "                E.append(v)\n",
    "            elif v.sound == 'а':\n",
    "                A.append(v)\n",
    "            else:\n",
    "                U.append(v)\n",
    "                \n",
    "    assert len(E) == len(A) == len(U)\n",
    "    \n",
    "    return E, A, U"
   ]
  },
  {
   "cell_type": "code",
   "execution_count": 41,
   "metadata": {
    "collapsed": true
   },
   "outputs": [],
   "source": [
    "E, A, U = load([1, 2, 3, 4, 5, 6, 7, 8, 9, 10])"
   ]
  },
  {
   "cell_type": "code",
   "execution_count": 42,
   "metadata": {
    "collapsed": true
   },
   "outputs": [],
   "source": [
    "df = build_df([*E, *A, *U])"
   ]
  },
  {
   "cell_type": "code",
   "execution_count": 120,
   "metadata": {},
   "outputs": [
    {
     "data": {
      "text/plain": [
       "sound  next\n",
       "а      й       1693.905855\n",
       "       л'      1620.647773\n",
       "       п'      1600.923938\n",
       "       т'      1674.012291\n",
       "е      й       2191.346321\n",
       "       л'      2016.738175\n",
       "       п'      2159.236918\n",
       "       т'      2292.709067\n",
       "у      й       1189.920833\n",
       "       л'      1160.285075\n",
       "       п'       985.556275\n",
       "       т'      1251.134389\n",
       "dtype: float64"
      ]
     },
     "execution_count": 120,
     "metadata": {},
     "output_type": "execute_result"
    }
   ],
   "source": [
    "df.groupby(['sound', 'next'])['f2_tr_1', 'f2_tr_2', 'f2_tr_3', 'f2_tr_4', 'f2_tr_5'].mean().mean(axis=1)"
   ]
  },
  {
   "cell_type": "code",
   "execution_count": 15,
   "metadata": {},
   "outputs": [
    {
     "data": {
      "text/plain": [
       "а    33\n",
       "у    21\n",
       "е    19\n",
       "Name: sound, dtype: int64"
      ]
     },
     "execution_count": 15,
     "metadata": {},
     "output_type": "execute_result"
    }
   ],
   "source": [
    "df[df.status == 0].sound.value_counts()"
   ]
  },
  {
   "cell_type": "code",
   "execution_count": null,
   "metadata": {
    "collapsed": true
   },
   "outputs": [],
   "source": []
  },
  {
   "cell_type": "code",
   "execution_count": 21,
   "metadata": {
    "collapsed": true
   },
   "outputs": [],
   "source": [
    "def delta_prop(x):\n",
    "    props = [0]\n",
    "    \n",
    "    for i in range(1, len(x)):\n",
    "        props.append(abs(((100 * x[i]) / x[i-1]) - 100))\n",
    "        \n",
    "    return np.array(props)"
   ]
  },
  {
   "cell_type": "code",
   "execution_count": 22,
   "metadata": {},
   "outputs": [
    {
     "data": {
      "text/plain": [
       "array([ 0., 25., 20.])"
      ]
     },
     "execution_count": 22,
     "metadata": {},
     "output_type": "execute_result"
    }
   ],
   "source": [
    "delta_prop([4, 5, 4])"
   ]
  },
  {
   "cell_type": "code",
   "execution_count": null,
   "metadata": {
    "collapsed": true
   },
   "outputs": [],
   "source": []
  },
  {
   "cell_type": "code",
   "execution_count": null,
   "metadata": {
    "collapsed": true
   },
   "outputs": [],
   "source": []
  },
  {
   "cell_type": "code",
   "execution_count": null,
   "metadata": {
    "collapsed": true
   },
   "outputs": [],
   "source": []
  },
  {
   "cell_type": "code",
   "execution_count": null,
   "metadata": {
    "collapsed": true
   },
   "outputs": [],
   "source": []
  },
  {
   "cell_type": "code",
   "execution_count": null,
   "metadata": {
    "collapsed": true
   },
   "outputs": [],
   "source": []
  },
  {
   "cell_type": "code",
   "execution_count": null,
   "metadata": {
    "collapsed": true
   },
   "outputs": [],
   "source": []
  },
  {
   "cell_type": "code",
   "execution_count": null,
   "metadata": {
    "collapsed": true
   },
   "outputs": [],
   "source": []
  },
  {
   "cell_type": "code",
   "execution_count": 26,
   "metadata": {
    "collapsed": true
   },
   "outputs": [],
   "source": [
    "def group_by(V, global_atr=[], segment_atr=[], prev=None, _next=None):\n",
    "    for i, v in enumerate(V):\n",
    "        if v.status > 0:\n",
    "            continue\n",
    "            \n",
    "        if prev is not None:\n",
    "            if v.prev != prev:\n",
    "                continue\n",
    "        \n",
    "        if _next is not None:\n",
    "            if v.next != _next:\n",
    "                continue\n",
    "        \n",
    "        print('%s.  --- [%s%s%s], rec: %s ---' % (i + 1, v.prev, v.sound, v.next, v.rec))\n",
    "        if global_atr:\n",
    "            print('GLOBAL')\n",
    "            for atr in global_atr:\n",
    "                print('\\t%s: %s' % (atr, v.__dict__[atr]))\n",
    "        if segment_atr:\n",
    "            print('SEGMENT')\n",
    "            for atr in segment_atr:\n",
    "                print('\\tstable:\\t%s: %s' % (atr, v.st_atr[atr]))\n",
    "                print('\\ttrans.:\\t%s: %s' % (atr, v.tr_atr[atr]))\n",
    "        print('\\n')"
   ]
  },
  {
   "cell_type": "code",
   "execution_count": 27,
   "metadata": {
    "collapsed": true
   },
   "outputs": [],
   "source": [
    "_nexts = [\"п'\", \"т'\", \"л'\", \"й\"]"
   ]
  },
  {
   "cell_type": "code",
   "execution_count": 45,
   "metadata": {},
   "outputs": [
    {
     "name": "stdout",
     "output_type": "stream",
     "text": [
      "12.  --- [гут'], rec: 3 ---\n",
      "GLOBAL\n",
      "\tstatus: 0\n",
      "\tlen: 181.9760784386233\n",
      "SEGMENT\n",
      "\tstable:\tlen: 113.9908704489585\n",
      "\ttrans.:\tlen: 67.98520798966479\n",
      "\tstable:\tf2: [621.72256064 654.44480067 673.18888204 670.94906774 717.88178303]\n",
      "\ttrans.:\tf2: [ 717.88178303  807.81575361  988.40238181 1221.15815381 2006.84958914]\n",
      "\tstable:\tf2_delta_prop: [ 0.         11.04413897  2.86411953  0.33271707  6.99497436]\n",
      "\ttrans.:\tf2_delta_prop: [ 0.         12.5276853  22.35492777 23.54868587 64.33985908]\n",
      "\tstable:\tsmoothed_f2: True\n",
      "\ttrans.:\tsmoothed_f2: False\n",
      "\tstable:\tf2_inner_delta: -17.814317351406544\n",
      "\ttrans.:\tf2_inner_delta: 1288.9678061105296\n",
      "\tstable:\tf2_edge_delta: None\n",
      "\ttrans.:\tf2_edge_delta: 1288.9678061105296\n",
      "\n",
      "\n",
      "16.  --- [гут'], rec: 4 ---\n",
      "GLOBAL\n",
      "\tstatus: 0\n",
      "\tlen: 168.2461586568138\n",
      "SEGMENT\n",
      "\tstable:\tlen: 99.95506467049609\n",
      "\ttrans.:\tlen: 68.29109398631772\n",
      "\tstable:\tf2: [781.64753144 822.7868752  787.48198227 805.11302434 783.5840012 ]\n",
      "\ttrans.:\tf2: [ 783.5840012   913.9904355  1143.79332377 1445.3156522  1924.63769772]\n",
      "\tstable:\tf2_delta_prop: [ 0.         22.60029257  4.2908916   2.23891371  2.67403737]\n",
      "\ttrans.:\tf2_delta_prop: [ 0.         16.64230435 25.14281106 26.36160941 33.16383136]\n",
      "\tstable:\tsmoothed_f2: True\n",
      "\ttrans.:\tsmoothed_f2: False\n",
      "\tstable:\tf2_inner_delta: -279.45215552233753\n",
      "\ttrans.:\tf2_inner_delta: 1141.053696524289\n",
      "\tstable:\tf2_edge_delta: None\n",
      "\ttrans.:\tf2_edge_delta: 1141.053696524289\n",
      "\n",
      "\n",
      "20.  --- [гут'], rec: 5 ---\n",
      "GLOBAL\n",
      "\tstatus: 0\n",
      "\tlen: 88.91264089577078\n",
      "SEGMENT\n",
      "\tstable:\tlen: 42.17183545164005\n",
      "\ttrans.:\tlen: 46.74080544413073\n",
      "\tstable:\tf2: [727.78142314 766.08570857 819.88797587 825.59411341 877.31121816]\n",
      "\ttrans.:\tf2: [ 877.31121816  967.04443083 1081.08204309 1334.41402947 2052.3109923 ]\n",
      "\tstable:\tf2_delta_prop: [ 0.         10.3899008   7.02300887  0.69596551  6.26422886]\n",
      "\ttrans.:\tf2_delta_prop: [ 0.         10.2282076  11.79238602 23.43318789 53.7986672 ]\n",
      "\tstable:\tsmoothed_f2: True\n",
      "\ttrans.:\tsmoothed_f2: False\n",
      "\tstable:\tf2_inner_delta: 22.401207589891897\n",
      "\ttrans.:\tf2_inner_delta: 1174.9997741403035\n",
      "\tstable:\tf2_edge_delta: None\n",
      "\ttrans.:\tf2_edge_delta: 1174.9997741403035\n",
      "\n",
      "\n",
      "24.  --- [гут'], rec: 6 ---\n",
      "GLOBAL\n",
      "\tstatus: 0\n",
      "\tlen: 92.33318305710725\n",
      "SEGMENT\n",
      "\tstable:\tlen: None\n",
      "\ttrans.:\tlen: 92.33318305710725\n",
      "\tstable:\tf2: []\n",
      "\ttrans.:\tf2: [ 701.00648641  778.89609601  895.21586161 1110.56159246 2078.87208798]\n",
      "\tstable:\tf2_delta_prop: None\n",
      "\ttrans.:\tf2_delta_prop: [ 0.         64.10306499 14.93392587 24.05517374 87.1910664 ]\n",
      "\tstable:\tsmoothed_f2: False\n",
      "\ttrans.:\tsmoothed_f2: True\n",
      "\tstable:\tf2_inner_delta: None\n",
      "\ttrans.:\tf2_inner_delta: -90.94016954714562\n",
      "\tstable:\tf2_edge_delta: None\n",
      "\ttrans.:\tf2_edge_delta: None\n",
      "\n",
      "\n",
      "28.  --- [гут'], rec: 7 ---\n",
      "GLOBAL\n",
      "\tstatus: 0\n",
      "\tlen: 85.56167700098172\n",
      "SEGMENT\n",
      "\tstable:\tlen: None\n",
      "\ttrans.:\tlen: 85.56167700098172\n",
      "\tstable:\tf2: []\n",
      "\ttrans.:\tf2: [ 773.09502066  861.26428326  966.54950673 1127.67723156 1707.01789036]\n",
      "\tstable:\tf2_delta_prop: None\n",
      "\ttrans.:\tf2_delta_prop: [ 0.         11.40471226 12.22449665 16.67040578 51.37468795]\n",
      "\tstable:\tsmoothed_f2: False\n",
      "\ttrans.:\tsmoothed_f2: False\n",
      "\tstable:\tf2_inner_delta: None\n",
      "\ttrans.:\tf2_inner_delta: 933.9228696974071\n",
      "\tstable:\tf2_edge_delta: None\n",
      "\ttrans.:\tf2_edge_delta: None\n",
      "\n",
      "\n",
      "32.  --- [гут'], rec: 8 ---\n",
      "GLOBAL\n",
      "\tstatus: 0\n",
      "\tlen: 87.30176296563741\n",
      "SEGMENT\n",
      "\tstable:\tlen: 24.499615444440792\n",
      "\ttrans.:\tlen: 62.802147521196616\n",
      "\tstable:\tf2: [782.69407474 823.88849973 819.8546688  813.08390442 875.80778691]\n",
      "\ttrans.:\tf2: [ 875.80778691  996.67804969 1166.69945182 1366.00296284 1928.45589886]\n",
      "\tstable:\tf2_delta_prop: [0.         0.66930376 0.48960884 0.82584934 7.71431855]\n",
      "\ttrans.:\tf2_delta_prop: [ 0.         13.80100344 17.05880873 17.08267804 41.17508902]\n",
      "\tstable:\tsmoothed_f2: True\n",
      "\ttrans.:\tsmoothed_f2: False\n",
      "\tstable:\tf2_inner_delta: 46.367814291179116\n",
      "\ttrans.:\tf2_inner_delta: 1052.6481119506348\n",
      "\tstable:\tf2_edge_delta: None\n",
      "\ttrans.:\tf2_edge_delta: 1052.6481119506348\n",
      "\n",
      "\n",
      "36.  --- [гут'], rec: 9 ---\n",
      "GLOBAL\n",
      "\tstatus: 0\n",
      "\tlen: 115.4108639605198\n",
      "SEGMENT\n",
      "\tstable:\tlen: 44.822707377250026\n",
      "\ttrans.:\tlen: 70.58815658326978\n",
      "\tstable:\tf2: [782.41919718 804.00280446 807.55118968 805.17627229 887.3801497 ]\n",
      "\ttrans.:\tf2: [ 887.3801497  1102.68150695 1263.91726441 1345.2146726  2151.97060304]\n",
      "\tstable:\tf2_delta_prop: [ 0.          2.75857333  0.44133991  0.29408877 10.20942621]\n",
      "\ttrans.:\tf2_delta_prop: [ 0.         24.26258434 14.62215122  6.432178   59.97228152]\n",
      "\tstable:\tsmoothed_f2: False\n",
      "\ttrans.:\tsmoothed_f2: False\n",
      "\tstable:\tf2_inner_delta: 104.9609525193456\n",
      "\ttrans.:\tf2_inner_delta: 1264.5904533341663\n",
      "\tstable:\tf2_edge_delta: None\n",
      "\ttrans.:\tf2_edge_delta: 1264.5904533341663\n",
      "\n",
      "\n"
     ]
    }
   ],
   "source": [
    "group_by(U, ['status', 'len'], ['len', 'f2', 'f2_delta_prop', 'smoothed_f2', 'f2_inner_delta', 'f2_edge_delta'], _next=_nexts[1])"
   ]
  },
  {
   "cell_type": "code",
   "execution_count": null,
   "metadata": {
    "collapsed": true
   },
   "outputs": [],
   "source": []
  },
  {
   "cell_type": "code",
   "execution_count": 40,
   "metadata": {
    "collapsed": true
   },
   "outputs": [],
   "source": [
    "def smoothing(V, mode='both', atrs=['f2'], props={'st': 5, 'tr': 10}):\n",
    "    def left_smooth(idxs):\n",
    "        \"\"\"\n",
    "        idxs[0]: initial point\n",
    "        idxs[1]: second point\n",
    "        \"\"\"\n",
    "        for atr in atrs:\n",
    "            if v.st_atr[atr].any() and v.st_atr[atr][idxs[0]] > v.st_atr[atr][idxs[1]]:\n",
    "                v.st_atr[atr][idxs[0]] = v.st_atr[atr][idxs[1]] - ((v.st_atr[atr][idxs[1]] * props['st']) / 100)\n",
    "                v.st_atr['smoothed_%s' % atr] = True\n",
    "\n",
    "            if v.tr_atr[atr].any() and v.tr_atr[atr][idxs[0]] > v.tr_atr[atr][idxs[1]]:\n",
    "                v.tr_atr[atr][idxs[0]] = v.tr_atr[atr][idxs[1]] - ((v.tr_atr[atr][idxs[1]] * props['tr']) / 100)\n",
    "                v.tr_atr['smoothed_%s' % atr] = True\n",
    "    \n",
    "    def right_smooth(idxs):\n",
    "        \"\"\"\n",
    "        idxs[0]: penultimate point\n",
    "        idxs[1]: ultimate point\n",
    "        \"\"\"\n",
    "        for atr in atrs:\n",
    "            if v.st_atr[atr].any() and v.st_atr[atr][idxs[1]] < v.st_atr[atr][idxs[0]]:\n",
    "                v.st_atr[atr][idxs[1]] = v.st_atr[atr][idxs[0]] + ((v.st_atr[atr][idxs[0]] * props['st']) / 100)\n",
    "                v.st_atr['smoothed_%s' % atr] = True\n",
    "\n",
    "            if v.tr_atr[atr].any() and v.tr_atr[atr][idxs[1]] < v.tr_atr[atr][idxs[0]]:\n",
    "                v.tr_atr[atr][idxs[1]] = v.tr_atr[atr][idxs[0]] + ((v.tr_atr[atr][idxs[0]] * props['tr']) / 100)\n",
    "                v.tr_atr['smoothed_%s' % atr] = True\n",
    "        \n",
    "        \n",
    "    for v in V:\n",
    "        # ДОБАВИТЬ ПРОВЕРКУ НА МОНОТОННО НИСХОДЯЩИЙ /е/\n",
    "        if mode == 'left':\n",
    "            left_smooth([0, 1])\n",
    "                \n",
    "        elif mode == 'right':\n",
    "            right_smooth([-2, -1])\n",
    "        \n",
    "        else:\n",
    "            left_smooth([0, 1])\n",
    "            right_smooth([-2, -1])\n",
    "    \n",
    "    return V"
   ]
  },
  {
   "cell_type": "code",
   "execution_count": 43,
   "metadata": {},
   "outputs": [],
   "source": [
    "U = smoothing(U, 'left')"
   ]
  },
  {
   "cell_type": "code",
   "execution_count": null,
   "metadata": {
    "collapsed": true
   },
   "outputs": [],
   "source": []
  },
  {
   "cell_type": "code",
   "execution_count": null,
   "metadata": {
    "collapsed": true
   },
   "outputs": [],
   "source": []
  },
  {
   "cell_type": "code",
   "execution_count": null,
   "metadata": {
    "collapsed": true
   },
   "outputs": [],
   "source": []
  },
  {
   "cell_type": "code",
   "execution_count": null,
   "metadata": {
    "collapsed": true
   },
   "outputs": [],
   "source": []
  },
  {
   "cell_type": "code",
   "execution_count": null,
   "metadata": {
    "collapsed": true
   },
   "outputs": [],
   "source": []
  },
  {
   "cell_type": "code",
   "execution_count": null,
   "metadata": {
    "collapsed": true
   },
   "outputs": [],
   "source": []
  },
  {
   "cell_type": "code",
   "execution_count": null,
   "metadata": {
    "collapsed": true
   },
   "outputs": [],
   "source": []
  },
  {
   "cell_type": "code",
   "execution_count": 13,
   "metadata": {
    "collapsed": true
   },
   "outputs": [],
   "source": [
    "def print_out(recs):\n",
    "    for rec in recs:\n",
    "        vs = read_csv(str(rec))\n",
    "        print('----- REC. %s -----\\n' % rec)\n",
    "        for v in vs:\n",
    "            if v.status == 0:\n",
    "                status = 'OK'\n",
    "            else:\n",
    "                status = 'PROBLEM'\n",
    "                \n",
    "            print('vowel: /%s/\\nstatus: %s\\ncontext: [%s %s %s]\\nlen: %s\\nstable len: %s\\ntrans. len: %s\\nstable F2: %s\\ntrans. F2: %s\\n'\n",
    "                     % (v.sound, status, v.prev, v.sound, v.next, v.len,\n",
    "                        v.st_atr['len'], v.tr_atr['len'], v.st_atr['f2'], v.tr_atr['f2'])\n",
    "                     )"
   ]
  },
  {
   "cell_type": "code",
   "execution_count": 14,
   "metadata": {},
   "outputs": [
    {
     "name": "stdout",
     "output_type": "stream",
     "text": [
      "----- REC. 3 -----\n",
      "\n",
      "vowel: /а/\n",
      "status: PROBLEM\n",
      "context: [к а п']\n",
      "len: 150.01633946943116\n",
      "stable len: 96.83649245713255\n",
      "trans. len: 53.17984701229861\n",
      "stable F2: [2383.63637706 1443.6624476  1117.098973   2450.80003704 2499.33503661]\n",
      "trans. F2: [2499.33503661 1973.57184936 1956.46123814 1416.42373777 1285.58042764]\n",
      "\n",
      "vowel: /у/\n",
      "status: PROBLEM\n",
      "context: [г у л']\n",
      "len: 166.5438783899944\n",
      "stable len: 64.62304483223136\n",
      "trans. len: 101.92083355776305\n",
      "stable F2: [ 674.22811213  642.46813073  567.71883805  575.01718356 2451.5330662 ]\n",
      "trans. F2: [2451.5330662  2423.68061997 2449.00500999 2418.41928549 2387.546493  ]\n",
      "\n",
      "vowel: /у/\n",
      "status: OK\n",
      "context: [∅ у й]\n",
      "len: 137.46754278684392\n",
      "stable len: 59.12102995517188\n",
      "trans. len: 78.34651283167204\n",
      "stable F2: [624.48098667 572.97054368 592.28741296 596.57422465 621.24441868]\n",
      "trans. F2: [ 621.24441868  693.92162556  759.35893719  929.1481382  1701.31434043]\n",
      "\n",
      "vowel: /е/\n",
      "status: OK\n",
      "context: [к е т']\n",
      "len: 135.67661251248353\n",
      "stable len: 135.67661251248353\n",
      "trans. len: None\n",
      "stable F2: [1897.76516657 2002.4646545  2041.03992625 2033.81789616 2022.90695022]\n",
      "trans. F2: []\n",
      "\n",
      "vowel: /у/\n",
      "status: PROBLEM\n",
      "context: [г у п']\n",
      "len: 155.07220712477476\n",
      "stable len: 69.88204572995471\n",
      "trans. len: 85.19016139482005\n",
      "stable F2: [ 530.07051239  598.78237243  555.05468294  614.42167135 2218.81061247]\n",
      "trans. F2: [2218.81061247 2526.96499629  628.94302298  710.19522334 2561.51278284]\n",
      "\n",
      "vowel: /е/\n",
      "status: OK\n",
      "context: [∅ е й]\n",
      "len: 243.2384399270262\n",
      "stable len: None\n",
      "trans. len: 243.2384399270262\n",
      "stable F2: []\n",
      "trans. F2: [1821.69543255 1929.32100429 2039.79145137 2076.28447281 2018.88330136]\n",
      "\n",
      "vowel: /у/\n",
      "status: OK\n",
      "context: [г у т']\n",
      "len: 193.33476246549708\n",
      "stable len: 113.9908704489585\n",
      "trans. len: 79.34389201653858\n",
      "stable F2: [718.18701561 647.30425042 668.3410898  713.43834688 709.80061598]\n",
      "trans. F2: [ 709.80061598 1235.06388425 2382.07402718 2189.25619201 2235.49979779]\n",
      "\n",
      "vowel: /а/\n",
      "status: OK\n",
      "context: [г а й]\n",
      "len: 279.4731779218296\n",
      "stable len: 193.14098104985078\n",
      "trans. len: 86.3321968719788\n",
      "stable F2: [1669.70476782 1463.70262908 1431.16882527 1405.65741541 1444.18759409]\n",
      "trans. F2: [1444.18759409 1509.21243257 1605.19323865 1695.14830139 1843.32868896]\n",
      "\n",
      "vowel: /е/\n",
      "status: OK\n",
      "context: [к е л']\n",
      "len: 197.89012837125597\n",
      "stable len: 136.36117315093088\n",
      "trans. len: 61.52895522032509\n",
      "stable F2: [2644.80364017 2076.62124906 2158.24348823 2148.59116421 2148.32224264]\n",
      "trans. F2: [2148.32224264 2034.61448024 1896.29623112 1800.03267991 1732.42474797]\n",
      "\n",
      "vowel: /е/\n",
      "status: OK\n",
      "context: [к е п']\n",
      "len: 163.9629080853524\n",
      "stable len: 44.06963024703714\n",
      "trans. len: 119.89327783831527\n",
      "stable F2: [2067.77380079 2057.00729315 2065.69611714 2058.47318072 2058.98335574]\n",
      "trans. F2: [2058.98335574 1989.14079023 1955.19574447 1863.5909847  1722.44574675]\n",
      "\n",
      "vowel: /а/\n",
      "status: OK\n",
      "context: [к а т']\n",
      "len: 192.96025163640707\n",
      "stable len: 101.36970203197393\n",
      "trans. len: 91.59054960443314\n",
      "stable F2: [1461.52787588 1359.18922722 1370.39328468 1342.88314393 1361.54123215]\n",
      "trans. F2: [1361.54123215 1361.78519669 1380.28942449 1516.56142409 1772.5909865 ]\n",
      "\n",
      "vowel: /а/\n",
      "status: OK\n",
      "context: [г а л']\n",
      "len: 178.0015946406195\n",
      "stable len: 86.07722428166653\n",
      "trans. len: 91.92437035895296\n",
      "stable F2: [1412.60365932 1404.640879   1320.09121147 1321.13331052 1294.20035577]\n",
      "trans. F2: [1294.20035577 1319.14740989 1348.51455683 1411.16975418 1468.18198081]\n",
      "\n",
      "----- REC. 4 -----\n",
      "\n",
      "vowel: /а/\n",
      "status: OK\n",
      "context: [к а п']\n",
      "len: 192.92812024964866\n",
      "stable len: None\n",
      "trans. len: 192.92812024964866\n",
      "stable F2: []\n",
      "trans. F2: [1429.50017184 1397.39889953 1460.00991827 1595.52203066 1656.84960842]\n",
      "\n",
      "vowel: /у/\n",
      "status: PROBLEM\n",
      "context: [г у л']\n",
      "len: 260.97932521913236\n",
      "stable len: 157.9579675735161\n",
      "trans. len: 103.02135764561626\n",
      "stable F2: [667.18821942 743.8564753  713.2763274  760.34530619 735.48284836]\n",
      "trans. F2: [ 735.48284836  679.37132427  663.93771522  711.68014897 1515.67214536]\n",
      "\n",
      "vowel: /у/\n",
      "status: PROBLEM\n",
      "context: [∅ у й]\n",
      "len: 180.10722791714784\n",
      "stable len: 114.71624084540366\n",
      "trans. len: 65.39098707174418\n",
      "stable F2: [583.73402558 693.12356566 849.22844872 870.85701135 853.27783904]\n",
      "trans. F2: [ 853.27783904  890.95959371 1102.14052015 1221.1468149  2236.97405119]\n",
      "\n",
      "vowel: /е/\n",
      "status: OK\n",
      "context: [к е т']\n",
      "len: 141.4557110636281\n",
      "stable len: None\n",
      "trans. len: 141.4557110636281\n",
      "stable F2: []\n",
      "trans. F2: [2169.93875422 2293.03306886 2315.15611279 2376.50330836 2385.77097189]\n",
      "\n",
      "vowel: /у/\n",
      "status: PROBLEM\n",
      "context: [г у п']\n",
      "len: 192.5915431560128\n",
      "stable len: 192.5915431560128\n",
      "trans. len: None\n",
      "stable F2: [1023.8388133   980.39034549 1118.62835159  886.77304941  983.23281184]\n",
      "trans. F2: []\n",
      "\n",
      "vowel: /е/\n",
      "status: OK\n",
      "context: [∅ е й]\n",
      "len: 254.00675896175073\n",
      "stable len: None\n",
      "trans. len: 254.00675896175073\n",
      "stable F2: []\n",
      "trans. F2: [2293.27714064 2423.31075415 2535.91933083 2590.7558905  2833.88643127]\n",
      "\n",
      "vowel: /у/\n",
      "status: OK\n",
      "context: [г у т']\n",
      "len: 168.2461586568138\n",
      "stable len: 99.95506467049609\n",
      "trans. len: 68.29109398631772\n",
      "stable F2: [946.02117041 802.57172098 778.6835722  800.6375973  778.63365232]\n",
      "trans. F2: [ 778.63365232  900.30038801 1125.23797755 1418.84150319 2462.06817695]\n",
      "\n",
      "vowel: /а/\n",
      "status: OK\n",
      "context: [г а й]\n",
      "len: 179.87937097285567\n",
      "stable len: 72.11399090292048\n",
      "trans. len: 107.76538006993519\n",
      "stable F2: [2244.4153666  1596.46090979 1573.48166778 1508.31949662 1454.61369163]\n",
      "trans. F2: [1454.61369163 1523.4501224  1640.09836085 1770.38511993 2201.3747177 ]\n",
      "\n",
      "vowel: /е/\n",
      "status: PROBLEM\n",
      "context: [к е л']\n",
      "len: 195.36355491507607\n",
      "stable len: 195.36355491507607\n",
      "trans. len: None\n",
      "stable F2: [2464.97391733 2494.28173601 2650.71167764 2668.37895575 2466.94099761]\n",
      "trans. F2: []\n",
      "\n",
      "vowel: /е/\n",
      "status: PROBLEM\n",
      "context: [к е п']\n",
      "len: 143.59448983921652\n",
      "stable len: 121.01895005420715\n",
      "trans. len: 22.57553978500937\n",
      "stable F2: [2476.30694935 2484.37007559 2444.95316334 2538.54993652 2520.17183167]\n",
      "trans. F2: [2520.17183167 2497.85977411 2448.3725349  2369.70869073 2187.88478026]\n",
      "\n",
      "vowel: /а/\n",
      "status: OK\n",
      "context: [к а т']\n",
      "len: 232.27130283837027\n",
      "stable len: 89.95293931437232\n",
      "trans. len: 142.31836352399796\n",
      "stable F2: [1465.58267195 1293.56223788 1376.95657798 1330.04045456 1299.5093029 ]\n",
      "trans. F2: [1299.5093029  1430.91037036 1505.07980515 1793.48369079 2125.35517006]\n",
      "\n",
      "vowel: /а/\n",
      "status: PROBLEM\n",
      "context: [г а л']\n",
      "len: 271.5201040596469\n",
      "stable len: 193.53296036288725\n",
      "trans. len: 77.98714369675963\n",
      "stable F2: [1713.25744315 1564.10522664 1567.64562352 1653.65053209 1727.17489145]\n",
      "trans. F2: [1727.17489145 1655.11375039 1693.23817277 1814.92544203 1908.66058241]\n",
      "\n",
      "----- REC. 5 -----\n",
      "\n",
      "vowel: /а/\n",
      "status: OK\n",
      "context: [к а п']\n",
      "len: 90.13652886845102\n",
      "stable len: None\n",
      "trans. len: 90.13652886845102\n",
      "stable F2: []\n",
      "trans. F2: [1449.19820751 1332.84994947 1437.82308493 1566.61870693 1607.18163708]\n",
      "\n",
      "vowel: /у/\n",
      "status: PROBLEM\n",
      "context: [г у л']\n",
      "len: 101.61159971274358\n",
      "stable len: None\n",
      "trans. len: 101.61159971274358\n",
      "stable F2: []\n",
      "trans. F2: [1778.41899564 2348.59854511 2422.37254133 2631.83844192 2330.92508135]\n",
      "\n",
      "vowel: /у/\n",
      "status: PROBLEM\n",
      "context: [∅ у й]\n",
      "len: 132.93350974933915\n",
      "stable len: None\n",
      "trans. len: 132.93350974933915\n",
      "stable F2: []\n",
      "trans. F2: [1805.55669716 2593.34568226 2627.61656561 2531.95769081 1940.37765488]\n",
      "\n",
      "vowel: /е/\n",
      "status: OK\n",
      "context: [к е т']\n",
      "len: 98.25913684945675\n",
      "stable len: 55.6006924960073\n",
      "trans. len: 42.658444353449454\n",
      "stable F2: [2433.38953468 2130.56301803 2087.32703753 2082.56299754 2106.82391875]\n",
      "trans. F2: [2106.82391875 2154.57054787 2217.01473224 2272.1911658  2253.06125029]\n",
      "\n",
      "vowel: /у/\n",
      "status: PROBLEM\n",
      "context: [г у п']\n",
      "len: 118.21355421318458\n",
      "stable len: 118.21355421318458\n",
      "trans. len: None\n",
      "stable F2: [1870.8527747  2532.78163013 2899.82155041  700.81980662 1655.92509372]\n",
      "trans. F2: []\n",
      "\n",
      "vowel: /е/\n",
      "status: PROBLEM\n",
      "context: [∅ е й]\n",
      "len: 171.2108457639232\n",
      "stable len: None\n",
      "trans. len: 171.2108457639232\n",
      "stable F2: []\n",
      "trans. F2: [2620.27659026 1907.46501407 2140.74427419 2180.07210223 2060.28952262]\n",
      "\n",
      "vowel: /у/\n",
      "status: PROBLEM\n",
      "context: [г у т']\n",
      "len: 88.91264089577078\n",
      "stable len: 88.91264089577078\n",
      "trans. len: None\n",
      "stable F2: [1905.89386416 2601.41567309 2674.76432379 2570.87727146 2441.93519933]\n",
      "trans. F2: []\n",
      "\n",
      "vowel: /а/\n",
      "status: OK\n",
      "context: [г а й]\n",
      "len: 175.4648585691001\n",
      "stable len: 53.193010331369805\n",
      "trans. len: 122.2718482377303\n",
      "stable F2: [1584.620612   1579.66582435 1544.2624349  1505.49650531 1466.23627078]\n",
      "trans. F2: [1466.23627078 1644.64847409 1878.10448803 2103.06164328 2353.01576555]\n",
      "\n",
      "vowel: /е/\n",
      "status: PROBLEM\n",
      "context: [к е л']\n",
      "len: 21432.223210241104\n",
      "stable len: 94.10746723574448\n",
      "trans. len: None\n",
      "stable F2: [2289.78487994 2034.83980374 1964.99179857 2047.62669412 1992.29461094]\n",
      "trans. F2: []\n",
      "\n",
      "vowel: /е/\n",
      "status: OK\n",
      "context: [к е п']\n",
      "len: 81.205508347864\n",
      "stable len: None\n",
      "trans. len: 81.205508347864\n",
      "stable F2: []\n",
      "trans. F2: [2419.40707079 2251.22015507 2198.90295387 2163.55671445 1960.387375  ]\n",
      "\n",
      "vowel: /а/\n",
      "status: OK\n",
      "context: [к а т']\n",
      "len: 100.37420109729567\n",
      "stable len: 45.127568455413325\n",
      "trans. len: 55.24663264188234\n",
      "stable F2: [1428.9345731  1369.45159707 1360.86997007 1346.18297235 1430.4344534 ]\n",
      "trans. F2: [1430.4344534  1682.23545234 1750.80352996 1839.25761653 2009.38200512]\n",
      "\n",
      "vowel: /а/\n",
      "status: OK\n",
      "context: [г а л']\n",
      "len: 107.30766991517271\n",
      "stable len: 107.30766991517271\n",
      "trans. len: None\n",
      "stable F2: [1757.72002828 1471.96702655 1401.40684923 1421.7495862  1731.28673159]\n",
      "trans. F2: []\n",
      "\n",
      "----- REC. 6 -----\n",
      "\n",
      "vowel: /а/\n",
      "status: OK\n",
      "context: [к а п']\n",
      "len: 133.91976498966062\n",
      "stable len: None\n",
      "trans. len: 133.91976498966062\n",
      "stable F2: []\n",
      "trans. F2: [1554.14415346 1632.98553787 1679.63417763 1835.8546394  1873.45812256]\n",
      "\n",
      "vowel: /у/\n",
      "status: OK\n",
      "context: [г у л']\n",
      "len: 124.66385408273695\n",
      "stable len: 50.224991248594364\n",
      "trans. len: 74.43886283414258\n",
      "stable F2: [2094.80071933  650.81281788  585.58976229  636.91094317  595.08173804]\n",
      "trans. F2: [ 595.08173804  760.99133337  960.52885172 1192.86322962 1721.95525079]\n",
      "\n",
      "vowel: /у/\n",
      "status: OK\n",
      "context: [∅ у й]\n",
      "len: 113.35027179373469\n",
      "stable len: 60.95928483477309\n",
      "trans. len: 52.390986958961605\n",
      "stable F2: [1029.97233828  767.64684489 1377.21792787  695.35175267  787.93487475]\n",
      "trans. F2: [ 787.93487475 1023.0826368  1173.98898353 1437.15405077 2094.1616021 ]\n",
      "\n",
      "vowel: /е/\n",
      "status: OK\n",
      "context: [к е т']\n",
      "len: 100.7292197437053\n",
      "stable len: None\n",
      "trans. len: 100.7292197437053\n",
      "stable F2: []\n",
      "trans. F2: [2095.46952943 2245.61820614 2265.92999923 2303.47942831 2278.04654207]\n",
      "\n",
      "vowel: /у/\n",
      "status: PROBLEM\n",
      "context: [г у п']\n",
      "len: 133.60544728837453\n",
      "stable len: 133.60544728837453\n",
      "trans. len: None\n",
      "stable F2: [2501.49798791 2384.14778148  656.12169057  764.45505406 2276.41228102]\n",
      "trans. F2: []\n",
      "\n",
      "vowel: /е/\n",
      "status: OK\n",
      "context: [∅ е й]\n",
      "len: 109.64090461267517\n",
      "stable len: 109.64090461267517\n",
      "trans. len: None\n",
      "stable F2: [2296.52213147 2379.26471684 2377.03358992 2445.07680573 2427.18584949]\n",
      "trans. F2: []\n",
      "\n",
      "vowel: /у/\n",
      "status: OK\n",
      "context: [г у т']\n",
      "len: 94.67567822744627\n",
      "stable len: None\n",
      "trans. len: 94.67567822744627\n",
      "stable F2: []\n",
      "trans. F2: [2170.92412943  786.33267221  910.53458924 1128.43228342 2110.18089675]\n",
      "\n",
      "vowel: /а/\n",
      "status: OK\n",
      "context: [г а й]\n",
      "len: 136.11882732917024\n",
      "stable len: 71.36764677385088\n",
      "trans. len: 64.75118055531937\n",
      "stable F2: [1563.71905138 1556.49579778 1539.38984911 1490.47954293 1505.52580073]\n",
      "trans. F2: [1505.52580073 1560.27302307 1637.17068191 1716.91239209 1910.04018815]\n",
      "\n",
      "vowel: /е/\n",
      "status: PROBLEM\n",
      "context: [к е л']\n",
      "len: 154.4296142658368\n",
      "stable len: None\n",
      "trans. len: 154.4296142658368\n",
      "stable F2: []\n",
      "trans. F2: [2211.08962744 2189.91868925 2146.29345544 2029.91347109 2027.13341448]\n",
      "\n",
      "vowel: /е/\n",
      "status: OK\n",
      "context: [к е п']\n",
      "len: 121.81441100585744\n",
      "stable len: 121.81441100585744\n",
      "trans. len: None\n",
      "stable F2: [2383.56126908 2383.84521911 2452.29532848 2428.19680562 2104.69446404]\n",
      "trans. F2: []\n",
      "\n",
      "vowel: /а/\n",
      "status: OK\n",
      "context: [к а т']\n",
      "len: 121.47340103825854\n",
      "stable len: 42.56195873688284\n",
      "trans. len: 78.9114423013757\n",
      "stable F2: [1482.65378016 1466.93551666 1476.78147538 1450.89101441 1450.0103072 ]\n",
      "trans. F2: [1450.0103072  1534.43022404 1711.0918361  1840.85360711 2144.65033634]\n",
      "\n",
      "vowel: /а/\n",
      "status: OK\n",
      "context: [г а л']\n",
      "len: 135.58524616578893\n",
      "stable len: 55.92159446769074\n",
      "trans. len: 79.66365169809819\n",
      "stable F2: [1484.99005356 1485.62172876 1482.82631572 1475.66738112 1505.67312227]\n",
      "trans. F2: [1505.67312227 1528.65330564 1603.96629705 1674.09554711 1892.7173001 ]\n",
      "\n"
     ]
    }
   ],
   "source": [
    "print_out([3, 4, 5, 6])"
   ]
  },
  {
   "cell_type": "code",
   "execution_count": 16,
   "metadata": {},
   "outputs": [
    {
     "name": "stdout",
     "output_type": "stream",
     "text": [
      "vowel: /а/\n",
      "status: 0\n",
      "context: [г а л']\n",
      "len: 178.0015946406195\n",
      "stable len: 86.07722428166653\n",
      "trans. len: 91.92437035895296\n",
      "stable F2: [1412.60365932 1404.640879   1320.09121147 1321.13331052 1294.20035577]\n",
      "trans. F2: [1294.20035577 1319.14740989 1348.51455683 1411.16975418 1468.18198081]\n"
     ]
    }
   ],
   "source": [
    "print('vowel: /%s/\\nstatus: %s\\ncontext: [%s %s %s]\\nlen: %s\\nstable len: %s\\ntrans. len: %s\\nstable F2: %s\\ntrans. F2: %s'\n",
    "     % (_v.sound, _v.status, _v.prev, _v.sound, _v.next, _v.len,\n",
    "        _v.st_atr['len'], _v.tr_atr['len'], _v.st_atr['f2'], _v.tr_atr['f2'])\n",
    "     )"
   ]
  },
  {
   "cell_type": "code",
   "execution_count": null,
   "metadata": {
    "collapsed": true
   },
   "outputs": [],
   "source": []
  },
  {
   "cell_type": "code",
   "execution_count": null,
   "metadata": {
    "collapsed": true
   },
   "outputs": [],
   "source": []
  },
  {
   "cell_type": "code",
   "execution_count": null,
   "metadata": {
    "collapsed": true
   },
   "outputs": [],
   "source": []
  },
  {
   "cell_type": "code",
   "execution_count": 42,
   "metadata": {},
   "outputs": [
    {
     "ename": "KeyError",
     "evalue": "''",
     "output_type": "error",
     "traceback": [
      "\u001b[1;31m---------------------------------------------------------------------------\u001b[0m",
      "\u001b[1;31mKeyError\u001b[0m                                  Traceback (most recent call last)",
      "\u001b[1;32m<ipython-input-42-be711724492b>\u001b[0m in \u001b[0;36m<module>\u001b[1;34m()\u001b[0m\n\u001b[1;32m----> 1\u001b[1;33m \u001b[0mvs\u001b[0m \u001b[1;33m=\u001b[0m \u001b[0mread_csv\u001b[0m\u001b[1;33m(\u001b[0m\u001b[1;34m'5'\u001b[0m\u001b[1;33m)\u001b[0m\u001b[1;33m\u001b[0m\u001b[0m\n\u001b[0m",
      "\u001b[1;32m<ipython-input-26-60f0c81aa15e>\u001b[0m in \u001b[0;36mread_csv\u001b[1;34m(sound_name, build)\u001b[0m\n\u001b[0;32m     22\u001b[0m     \u001b[0mcont\u001b[0m\u001b[1;33m.\u001b[0m\u001b[0mappend\u001b[0m\u001b[1;33m(\u001b[0m\u001b[0mcV\u001b[0m\u001b[1;33m)\u001b[0m\u001b[1;33m\u001b[0m\u001b[0m\n\u001b[0;32m     23\u001b[0m \u001b[1;33m\u001b[0m\u001b[0m\n\u001b[1;32m---> 24\u001b[1;33m     \u001b[1;32mfor\u001b[0m \u001b[0mv\u001b[0m \u001b[1;32min\u001b[0m \u001b[0mcont\u001b[0m\u001b[1;33m:\u001b[0m \u001b[0mv\u001b[0m\u001b[1;33m.\u001b[0m\u001b[0mbuild\u001b[0m\u001b[1;33m(\u001b[0m\u001b[1;33m)\u001b[0m\u001b[1;33m\u001b[0m\u001b[0m\n\u001b[0m\u001b[0;32m     25\u001b[0m \u001b[1;33m\u001b[0m\u001b[0m\n\u001b[0;32m     26\u001b[0m     \u001b[1;32mreturn\u001b[0m \u001b[0mcont\u001b[0m\u001b[1;33m\u001b[0m\u001b[0m\n",
      "\u001b[1;32m<ipython-input-4-471755452428>\u001b[0m in \u001b[0;36mbuild\u001b[1;34m(self)\u001b[0m\n\u001b[0;32m    200\u001b[0m \u001b[1;33m\u001b[0m\u001b[0m\n\u001b[0;32m    201\u001b[0m     \u001b[1;32mdef\u001b[0m \u001b[0mbuild\u001b[0m\u001b[1;33m(\u001b[0m\u001b[0mself\u001b[0m\u001b[1;33m)\u001b[0m\u001b[1;33m:\u001b[0m\u001b[1;33m\u001b[0m\u001b[0m\n\u001b[1;32m--> 202\u001b[1;33m         \u001b[0mself\u001b[0m\u001b[1;33m.\u001b[0m\u001b[0mget_sound\u001b[0m\u001b[1;33m(\u001b[0m\u001b[1;33m)\u001b[0m\u001b[1;33m\u001b[0m\u001b[0m\n\u001b[0m\u001b[0;32m    203\u001b[0m         \u001b[0mself\u001b[0m\u001b[1;33m.\u001b[0m\u001b[0mget_status\u001b[0m\u001b[1;33m(\u001b[0m\u001b[1;33m)\u001b[0m\u001b[1;33m\u001b[0m\u001b[0m\n\u001b[0;32m    204\u001b[0m         \u001b[0mself\u001b[0m\u001b[1;33m.\u001b[0m\u001b[0mget_prev\u001b[0m\u001b[1;33m(\u001b[0m\u001b[1;33m)\u001b[0m\u001b[1;33m\u001b[0m\u001b[0m\n",
      "\u001b[1;32m<ipython-input-4-471755452428>\u001b[0m in \u001b[0;36mget_sound\u001b[1;34m(self)\u001b[0m\n\u001b[0;32m     61\u001b[0m         \u001b[0mx\u001b[0m \u001b[1;33m=\u001b[0m \u001b[0mself\u001b[0m\u001b[1;33m.\u001b[0m\u001b[0mlines\u001b[0m\u001b[1;33m[\u001b[0m\u001b[1;36m0\u001b[0m\u001b[1;33m]\u001b[0m\u001b[1;33m.\u001b[0m\u001b[0msplit\u001b[0m\u001b[1;33m(\u001b[0m\u001b[1;34m','\u001b[0m\u001b[1;33m)\u001b[0m\u001b[1;33m[\u001b[0m\u001b[1;36m0\u001b[0m\u001b[1;33m]\u001b[0m\u001b[1;33m.\u001b[0m\u001b[0mstrip\u001b[0m\u001b[1;33m(\u001b[0m\u001b[1;33m)\u001b[0m\u001b[1;33m\u001b[0m\u001b[0m\n\u001b[0;32m     62\u001b[0m         \u001b[0mx\u001b[0m \u001b[1;33m=\u001b[0m \u001b[0mx\u001b[0m\u001b[1;33m.\u001b[0m\u001b[0mreplace\u001b[0m\u001b[1;33m(\u001b[0m\u001b[1;34m'?'\u001b[0m\u001b[1;33m,\u001b[0m \u001b[1;34m''\u001b[0m\u001b[1;33m)\u001b[0m\u001b[1;33m.\u001b[0m\u001b[0mreplace\u001b[0m\u001b[1;33m(\u001b[0m\u001b[1;34m'!'\u001b[0m\u001b[1;33m,\u001b[0m \u001b[1;34m''\u001b[0m\u001b[1;33m)\u001b[0m\u001b[1;33m\u001b[0m\u001b[0m\n\u001b[1;32m---> 63\u001b[1;33m         \u001b[0mself\u001b[0m\u001b[1;33m.\u001b[0m\u001b[0msound\u001b[0m \u001b[1;33m=\u001b[0m \u001b[0mself\u001b[0m\u001b[1;33m.\u001b[0m\u001b[0msound_map\u001b[0m\u001b[1;33m[\u001b[0m\u001b[0mx\u001b[0m\u001b[1;33m]\u001b[0m\u001b[1;33m\u001b[0m\u001b[0m\n\u001b[0m\u001b[0;32m     64\u001b[0m \u001b[1;33m\u001b[0m\u001b[0m\n\u001b[0;32m     65\u001b[0m     \u001b[1;32mdef\u001b[0m \u001b[0mget_prev\u001b[0m\u001b[1;33m(\u001b[0m\u001b[0mself\u001b[0m\u001b[1;33m)\u001b[0m\u001b[1;33m:\u001b[0m\u001b[1;33m\u001b[0m\u001b[0m\n",
      "\u001b[1;31mKeyError\u001b[0m: ''"
     ]
    }
   ],
   "source": [
    "vs = read_csv('5')"
   ]
  },
  {
   "cell_type": "code",
   "execution_count": 40,
   "metadata": {},
   "outputs": [
    {
     "data": {
      "text/plain": [
       "[V(6, 2),\n",
       " V(6, 4),\n",
       " V(6, 6),\n",
       " V(6, 8),\n",
       " V(6, 10),\n",
       " V(6, 12),\n",
       " V(6, 14),\n",
       " V(6, 16),\n",
       " V(6, 18),\n",
       " V(6, 20),\n",
       " V(6, 22)]"
      ]
     },
     "execution_count": 40,
     "metadata": {},
     "output_type": "execute_result"
    }
   ],
   "source": [
    "vs"
   ]
  },
  {
   "cell_type": "code",
   "execution_count": 26,
   "metadata": {},
   "outputs": [
    {
     "data": {
      "text/plain": [
       "['?a, 2, st, 2, 21.098546051358344, --undefined--, 74.04784699796359, 780.7128247251602, 1785.0800489204034',\n",
       " '?a, 2, st, 2, 21.117913349849772, 126.84509272753431, 80.02664418359653, 738.7000905771761, 2323.69514271682',\n",
       " '?a, 2, st, 2, 21.1372806483412, 126.40436492825674, 83.07601331748558, 875.301108234363, 2525.307299462071',\n",
       " '?a, 2, st, 2, 21.156647946832628, 124.45821241072044, 84.25461695165832, 984.7231511375725, 2477.8641679074067',\n",
       " '?a, 2, st, 2, 21.195382543815477, 118.7396996792083, 85.01303914172488, 943.3685804258288, 2494.2865969511986',\n",
       " '?a, 2, tr, 3, 21.195382543815477, 118.7396996792083, 85.01303914172488, 943.3685804258288, 2494.2865969511986',\n",
       " '?a, 2, tr, 3, 21.206018513217938, 117.32776043831485, 84.67347150860823, 970.772707410967, 2494.820286977796',\n",
       " '?a, 2, tr, 3, 21.2166544826204, 115.77673199494662, 83.85291902163311, 962.4761556766317, 2388.5580006502737',\n",
       " '?a, 2, tr, 3, 21.22729045202286, 114.11919947205664, 82.28201107237678, 1126.9356457738588, 2340.209556893246',\n",
       " '?a, 2, tr, 3, 21.248562390827775, 113.07022447536045, 76.08964553696676, 1267.930994791721, 2622.611232126886']"
      ]
     },
     "execution_count": 26,
     "metadata": {},
     "output_type": "execute_result"
    }
   ],
   "source": [
    "vs[0].lines"
   ]
  },
  {
   "cell_type": "code",
   "execution_count": null,
   "metadata": {
    "collapsed": true
   },
   "outputs": [],
   "source": []
  }
 ],
 "metadata": {
  "kernelspec": {
   "display_name": "Python 3",
   "language": "python",
   "name": "python3"
  },
  "language_info": {
   "codemirror_mode": {
    "name": "ipython",
    "version": 3
   },
   "file_extension": ".py",
   "mimetype": "text/x-python",
   "name": "python",
   "nbconvert_exporter": "python",
   "pygments_lexer": "ipython3",
   "version": "3.6.1"
  }
 },
 "nbformat": 4,
 "nbformat_minor": 2
}
